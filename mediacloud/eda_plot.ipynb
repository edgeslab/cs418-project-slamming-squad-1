{
 "cells": [
  {
   "cell_type": "code",
   "execution_count": 3,
   "metadata": {},
   "outputs": [],
   "source": [
    "import pandas as pd\n",
    "import numpy as np\n",
    "import seaborn as sns\n",
    "%matplotlib inline\n",
    "import matplotlib.pyplot as plt"
   ]
  },
  {
   "cell_type": "code",
   "execution_count": 4,
   "metadata": {},
   "outputs": [
    {
     "name": "stdout",
     "output_type": "stream",
     "text": [
      "              DateTime  Pricing\n",
      "0  2013-04-28 00:00:00   135.30\n",
      "1  2013-04-29 00:00:00   134.44\n",
      "2  2013-04-30 00:00:00   144.00\n",
      "3  2013-05-01 00:00:00   139.00\n",
      "4  2013-05-02 00:00:00   116.38\n"
     ]
    },
    {
     "data": {
      "text/html": [
       "<div>\n",
       "<style scoped>\n",
       "    .dataframe tbody tr th:only-of-type {\n",
       "        vertical-align: middle;\n",
       "    }\n",
       "\n",
       "    .dataframe tbody tr th {\n",
       "        vertical-align: top;\n",
       "    }\n",
       "\n",
       "    .dataframe thead th {\n",
       "        text-align: right;\n",
       "    }\n",
       "</style>\n",
       "<table border=\"1\" class=\"dataframe\">\n",
       "  <thead>\n",
       "    <tr style=\"text-align: right;\">\n",
       "      <th></th>\n",
       "      <th>count</th>\n",
       "      <th>date</th>\n",
       "    </tr>\n",
       "  </thead>\n",
       "  <tbody>\n",
       "    <tr>\n",
       "      <th>0</th>\n",
       "      <td>1</td>\n",
       "      <td>2013-01-01 00:00:00</td>\n",
       "    </tr>\n",
       "    <tr>\n",
       "      <th>1</th>\n",
       "      <td>6</td>\n",
       "      <td>2013-01-02 00:00:00</td>\n",
       "    </tr>\n",
       "    <tr>\n",
       "      <th>2</th>\n",
       "      <td>8</td>\n",
       "      <td>2013-01-03 00:00:00</td>\n",
       "    </tr>\n",
       "    <tr>\n",
       "      <th>3</th>\n",
       "      <td>5</td>\n",
       "      <td>2013-01-04 00:00:00</td>\n",
       "    </tr>\n",
       "    <tr>\n",
       "      <th>4</th>\n",
       "      <td>4</td>\n",
       "      <td>2013-01-05 00:00:00</td>\n",
       "    </tr>\n",
       "  </tbody>\n",
       "</table>\n",
       "</div>"
      ],
      "text/plain": [
       "   count                 date\n",
       "0      1  2013-01-01 00:00:00\n",
       "1      6  2013-01-02 00:00:00\n",
       "2      8  2013-01-03 00:00:00\n",
       "3      5  2013-01-04 00:00:00\n",
       "4      4  2013-01-05 00:00:00"
      ]
     },
     "execution_count": 4,
     "metadata": {},
     "output_type": "execute_result"
    }
   ],
   "source": [
    "# Plot the count of 'Bitcoin' and the pricing of 'Bitcoin' market\n",
    "daily_bitcoin_pricing = pd.read_csv('bitcoin-24hv0.csv')\n",
    "daily_bitcoin_pricing['Pricing'] = daily_bitcoin_pricing['Series 1']\n",
    "daily_bitcoin_pricing = daily_bitcoin_pricing.drop(['Series 1'], axis=1)\n",
    "print(daily_bitcoin_pricing.head())\n",
    "# count of bitcoin occurrances in medias\n",
    "daily_bitcoin_count = pd.read_csv('tmp/daily_bitcoin_count.csv')\n",
    "daily_bitcoin_count.head()"
   ]
  },
  {
   "cell_type": "code",
   "execution_count": 39,
   "metadata": {},
   "outputs": [
    {
     "name": "stdout",
     "output_type": "stream",
     "text": [
      "    DateTime  Pricing  count day month  year\n",
      "0 2013-04-28   135.30     18  28    04  2013\n",
      "1 2013-04-29   134.44     46  29    04  2013\n",
      "2 2013-04-30   144.00     29  30    04  2013\n",
      "3 2013-05-01   139.00     45  01    05  2013\n",
      "4 2013-05-02   116.38     90  02    05  2013\n"
     ]
    },
    {
     "data": {
      "text/plain": [
       "DateTime    datetime64[ns]\n",
       "Pricing            float64\n",
       "count                int64\n",
       "day                 object\n",
       "month               object\n",
       "year                object\n",
       "dtype: object"
      ]
     },
     "execution_count": 39,
     "metadata": {},
     "output_type": "execute_result"
    }
   ],
   "source": [
    "# daily_bitcoin_pricing_2014_2015 = daily_bitcoin_pricing[(daily_bitcoin_pricing['DateTime'] >= '2014-01-01 00:00:00') & (daily_bitcoin_pricing['DateTime'] < '2016-01-01 00:00:00')]\n",
    "# daily_bitcoin_count_2014_2015 = daily_bitcoin_count[(daily_bitcoin_count['date'] >= '2014-01-01 00:00:00') & (daily_bitcoin_count['date'] < '2016-01-01 00:00:00')]\n",
    "# print(daily_bitcoin_pricing_2014_2015.head())\n",
    "# print(\"len of 2014_2015 bitcoin pricing is {}\".format(len(daily_bitcoin_pricing_2014_2015['DateTime'])))\n",
    "# print(\"len of 2014_2015 bitcoin count is {}\".format(len(daily_bitcoin_count_2014_2015['date'])))\n",
    "daily_bitcoin_pricing_count = pd.merge(daily_bitcoin_pricing, daily_bitcoin_count, \n",
    "                                       how='inner', left_on='DateTime', right_on='date').drop(['date'], axis=1)\n",
    "daily_bitcoin_pricing_count['DateTime'] = [x[:10] for x in daily_bitcoin_pricing_count['DateTime']]\n",
    "daily_bitcoin_pricing_count['day'] = [x[8:10] for x in daily_bitcoin_pricing_count['DateTime']]\n",
    "daily_bitcoin_pricing_count['month'] = [x[5:7] for x in daily_bitcoin_pricing_count['DateTime']]\n",
    "daily_bitcoin_pricing_count['year'] = [x[0:4] for x in daily_bitcoin_pricing_count['DateTime']]\n",
    "daily_bitcoin_pricing_count['DateTime'] = pd.to_datetime(daily_bitcoin_pricing_count['DateTime'])\n",
    "print(daily_bitcoin_pricing_count.head())\n",
    "daily_bitcoin_pricing_count.describe()\n",
    "daily_bitcoin_pricing_count.dtypes"
   ]
  },
  {
   "cell_type": "code",
   "execution_count": 45,
   "metadata": {},
   "outputs": [
    {
     "data": {
      "image/png": "[encoded data removed]",
      "text/plain": [
       "<Figure size 432x288 with 1 Axes>"
      ]
     },
     "metadata": {
      "needs_background": "light"
     },
     "output_type": "display_data"
    }
   ],
   "source": [
    "# daily_bitcoin_pricing_count01 = daily_bitcoin_pricing_count[daily_bitcoin_pricing_count['day'] == '01']\n",
    "# fig, ax = plt.subplots()\n",
    "# fg = sns.lineplot(x='DateTime', y='Pricing', data=daily_bitcoin_pricing_count01, ax=ax)\n",
    "# fig.autofmt_xdate()\n",
    "# daily_bitcoin_pricing_count.plot(x='DateTime', y='Pricing')\n",
    "# daily_bitcoin_pricing_count.plot(x='DateTime', y='count')\n",
    "plt.plot('DateTime', 'Pricing', label='Pricing', data=daily_bitcoin_pricing_count)\n",
    "plt.plot('DateTime', 'count', label='count', data=daily_bitcoin_pricing_count)\n",
    "plt.xlabel('DateTime')\n",
    "plt.ylabel('Number')\n",
    "plt.title('The trend of bitcoin pricing and its occurrances frequency in medias')\n",
    "plt.legend()\n",
    "plt.show()"
   ]
  },
  {
   "cell_type": "code",
   "execution_count": null,
   "metadata": {},
   "outputs": [],
   "source": []
  }
 ],
 "metadata": {
  "kernelspec": {
   "display_name": "Python 3",
   "language": "python",
   "name": "python3"
  },
  "language_info": {
   "codemirror_mode": {
    "name": "ipython",
    "version": 3
   },
   "file_extension": ".py",
   "mimetype": "text/x-python",
   "name": "python",
   "nbconvert_exporter": "python",
   "pygments_lexer": "ipython3",
   "version": "3.7.1"
  }
 },
 "nbformat": 4,
 "nbformat_minor": 2
}
