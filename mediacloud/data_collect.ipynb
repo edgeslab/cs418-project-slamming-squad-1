{
 "cells": [
  {
   "cell_type": "markdown",
   "metadata": {},
   "source": [
    "# The trial of web scraping with Mediacloud API"
   ]
  },
  {
   "cell_type": "code",
   "execution_count": 23,
   "metadata": {},
   "outputs": [],
   "source": [
    "import requests\n",
    "import csv\n",
    "import os, sys, getopt, datetime\n",
    "from pathlib import Path"
   ]
  },
  {
   "cell_type": "code",
   "execution_count": 7,
   "metadata": {},
   "outputs": [
    {
     "data": {
      "text/plain": [
       "'fac5e9dec4b476c273fd33730040e488b3143b3d132e55d1de65a5a592f4a51d'"
      ]
     },
     "execution_count": 7,
     "metadata": {},
     "output_type": "execute_result"
    }
   ],
   "source": [
    "# read API_KEY file\n",
    "def read_api_key(filepath):\n",
    "    \"\"\"\n",
    "    Read the Yelp API Key from file.\n",
    "    \n",
    "    Args:\n",
    "        filepath (string): File containing API Key\n",
    "    Returns:\n",
    "        api_key (string): The API Key\n",
    "    \"\"\"\n",
    "    \n",
    "    # feel free to modify this function if you are storing the API Key differently\n",
    "    with open(filepath, 'r') as f:\n",
    "        return f.read().replace('\\n','')\n",
    "MY_KEY = read_api_key(\"mediacloud/mediacloud_key.txt\")\n",
    "MY_KEY"
   ]
  },
  {
   "cell_type": "code",
   "execution_count": 28,
   "metadata": {},
   "outputs": [],
   "source": [
    "def write_json_to_csv(json_list, attribute_name_list, outputfile_name):\n",
    "    \"\"\"\n",
    "        args:\n",
    "            json_list(JsonList): such as stories, media\n",
    "            attribute_name_list(list): attribute_name_list == column labels\n",
    "        returns:\n",
    "            na\n",
    "    \"\"\"\n",
    "    # check if file exist or not, if exist, then rename old file\n",
    "    \n",
    "    filepath = ''\n",
    "    old_name = outputfile_name\n",
    "    # check if outf containes the directory info\n",
    "    pos = outputfile_name.rfind('/')\n",
    "    if pos != -1:\n",
    "        filepath = outputfile_name[: pos + 1]\n",
    "        old_name = outputfile_name[pos + 1: ]\n",
    "    dt = str(datetime.datetime.now())\n",
    "    new_outf = Path(outputfile_name)\n",
    "    if new_outf.is_file():\n",
    "        # if the file exist, rename it\n",
    "        newname = old_name[0: len(old_name) - 4]+dt+'.csv'\n",
    "        os.rename(outputfile_name, filepath + newname)\n",
    "    # use 'x' to create and write the file\n",
    "    with open(new_outf, 'w') as csvfile:\n",
    "        print(\"open\")\n",
    "        cwriter = csv.DictWriter(csvfile, attribute_name_list, extrasaction='ignore')\n",
    "        cwriter.writeheader()\n",
    "        cwriter.writerows(json_list)"
   ]
  },
  {
   "cell_type": "code",
   "execution_count": 29,
   "metadata": {},
   "outputs": [
    {
     "name": "stdout",
     "output_type": "stream",
     "text": [
      "start:0 rows:100\n",
      "start:100 rows:100\n",
      "open\n"
     ]
    }
   ],
   "source": [
    "#Create a CSV file with all media sources.\n",
    "media = []\n",
    "start = 0\n",
    "rows  = 100\n",
    "while True:\n",
    "    params = { 'start': start, 'rows': rows, 'key': MY_KEY }\n",
    "    print(\"start:{} rows:{}\".format( start, rows))\n",
    "    r = requests.get( 'https://api.mediacloud.org/api/v2/media/list', \n",
    "                     params = params, headers = { 'Accept': 'application/json'} )\n",
    "    data = r.json()\n",
    "\n",
    "    if len(data) == 0:\n",
    "        break\n",
    "\n",
    "    start += rows\n",
    "    media.extend( data )\n",
    "    if start >= 200: break\n",
    "\n",
    "media_fieldnames = [\n",
    "    u'media_id',\n",
    "    u'url',\n",
    "    u'name'\n",
    "]\n",
    "\n",
    "write_json_to_csv(media, media_fieldnames, 'tmp/media.csv')"
   ]
  },
  {
   "cell_type": "markdown",
   "metadata": {},
   "source": [
    "# Grab stories by querying stories_public/list"
   ]
  },
  {
   "cell_type": "code",
   "execution_count": 30,
   "metadata": {},
   "outputs": [
    {
     "name": "stdout",
     "output_type": "stream",
     "text": [
      "Fetching 100 stories starting from 0\n",
      "open\n"
     ]
    }
   ],
   "source": [
    "start = 0\n",
    "rows  = 100\n",
    "stories_list = []\n",
    "while True:\n",
    "    params = {\n",
    "        'last_processed_stories_id': start,\n",
    "        'rows': rows,\n",
    "        'q': 'text:cryptocurrency',\n",
    "        'fq': 'publish_date:[2019-01-01T00:00:00Z TO 2019-03-01T00:00:00Z]',\n",
    "        'key': MY_KEY\n",
    "    }\n",
    "\n",
    "    print(\"Fetching {} stories starting from {}\".format( rows, start))\n",
    "    r = requests.get( 'https://api.mediacloud.org/api/v2/stories_public/list/', \n",
    "                     params = params, headers = { 'Accept': 'application/json'} )\n",
    "    stories = r.json()\n",
    "\n",
    "    if len(stories) == 0:\n",
    "        break\n",
    "\n",
    "    start = stories[-1]['processed_stories_id']\n",
    "    stories_list.extend(stories)\n",
    "    if start >=300: break\n",
    "\n",
    "story_list_fieldnames = [\n",
    "        u'ap_syndicated',\n",
    "        u'collect_date',\n",
    "        u'feeds',\n",
    "        u'guid',\n",
    "        u'language',\n",
    "        u'media_id',\n",
    "        u'media_name',\n",
    "        u'media_url',\n",
    "        u'processed_stories_id',\n",
    "        u'publish_date',\n",
    "        u'stories_id',\n",
    "        u'story_tags',\n",
    "        u'title',\n",
    "        u'url',\n",
    "        u'word_count'\n",
    "        ]\n",
    "write_json_to_csv(stories_list, story_list_fieldnames, 'tmp/story_list.csv')"
   ]
  },
  {
   "cell_type": "code",
   "execution_count": null,
   "metadata": {},
   "outputs": [],
   "source": []
  }
 ],
 "metadata": {
  "kernelspec": {
   "display_name": "Python 3",
   "language": "python",
   "name": "python3"
  },
  "language_info": {
   "codemirror_mode": {
    "name": "ipython",
    "version": 3
   },
   "file_extension": ".py",
   "mimetype": "text/x-python",
   "name": "python",
   "nbconvert_exporter": "python",
   "pygments_lexer": "ipython3",
   "version": "3.7.1"
  }
 },
 "nbformat": 4,
 "nbformat_minor": 2
}
