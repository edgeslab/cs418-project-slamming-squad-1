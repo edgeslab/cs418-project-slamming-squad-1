{
 "cells": [
  {
   "cell_type": "markdown",
   "metadata": {},
   "source": [
    "# Project Introduction\n",
    "#1 Our goal is to explore the trend variation on the bitcoin market price based on the market news and social news.\n",
    "#2 The first raw data we crawled from website is mainly from cryptocurrencynews.com. It has already done in the data_collect.ipynb progress in the same directory in the github. Now we would directly use the stored data in <b>cryptocurrencynews_com_bitcoin_news.csv</b> file\n",
    "\n",
    "#### Changes to the project\n",
    "1> Our goal remains, but the source of the data changed.\n",
    "\n",
    "Previously we would want to get data from mediacloud.com website. Later on we found that such data is not in accordance with our goal to use the contents to judge the market price variation. So we changed our way to re-crawled the data from the main cryptocurrency market news websites and social medias, like tweets. It tempted to be slow.\n",
    "\n",
    "2> to be continued."
   ]
  },
  {
   "cell_type": "code",
   "execution_count": 68,
   "metadata": {},
   "outputs": [],
   "source": [
    "# Pre import\n",
    "import pandas as pd\n",
    "import numpy as np\n",
    "import seaborn as sns\n",
    "%matplotlib inline\n",
    "import matplotlib.pyplot as plt\n",
    "import datetime"
   ]
  },
  {
   "cell_type": "markdown",
   "metadata": {},
   "source": [
    "# Data Cleaning= Preprocessing the Raw data\n",
    "2.1 format transformation\n",
    "\n",
    "2.2 create labels\n",
    "\n",
    "2.3 merge news data with price data"
   ]
  },
  {
   "cell_type": "code",
   "execution_count": 95,
   "metadata": {},
   "outputs": [],
   "source": [
    "# Read 'Bitcoin' and the pricing of 'Bitcoin' market\n",
    "priceOfBitcoin = pd.read_csv('bitcoin-24hv0.csv')\n",
    "newsOfBitcoin = pd.read_csv('cryptocurrencynews_with_years.csv')"
   ]
  },
  {
   "cell_type": "markdown",
   "metadata": {},
   "source": [
    "### 2.1 Date tranformation"
   ]
  },
  {
   "cell_type": "code",
   "execution_count": 96,
   "metadata": {},
   "outputs": [
    {
     "data": {
      "text/html": [
       "<div>\n",
       "<style scoped>\n",
       "    .dataframe tbody tr th:only-of-type {\n",
       "        vertical-align: middle;\n",
       "    }\n",
       "\n",
       "    .dataframe tbody tr th {\n",
       "        vertical-align: top;\n",
       "    }\n",
       "\n",
       "    .dataframe thead th {\n",
       "        text-align: right;\n",
       "    }\n",
       "</style>\n",
       "<table border=\"1\" class=\"dataframe\">\n",
       "  <thead>\n",
       "    <tr style=\"text-align: right;\">\n",
       "      <th></th>\n",
       "      <th>date</th>\n",
       "      <th>price</th>\n",
       "    </tr>\n",
       "  </thead>\n",
       "  <tbody>\n",
       "    <tr>\n",
       "      <th>0</th>\n",
       "      <td>2013-04-28</td>\n",
       "      <td>135.30</td>\n",
       "    </tr>\n",
       "    <tr>\n",
       "      <th>1</th>\n",
       "      <td>2013-04-29</td>\n",
       "      <td>134.44</td>\n",
       "    </tr>\n",
       "    <tr>\n",
       "      <th>2</th>\n",
       "      <td>2013-04-30</td>\n",
       "      <td>144.00</td>\n",
       "    </tr>\n",
       "    <tr>\n",
       "      <th>3</th>\n",
       "      <td>2013-05-01</td>\n",
       "      <td>139.00</td>\n",
       "    </tr>\n",
       "    <tr>\n",
       "      <th>4</th>\n",
       "      <td>2013-05-02</td>\n",
       "      <td>116.38</td>\n",
       "    </tr>\n",
       "  </tbody>\n",
       "</table>\n",
       "</div>"
      ],
      "text/plain": [
       "        date   price\n",
       "0 2013-04-28  135.30\n",
       "1 2013-04-29  134.44\n",
       "2 2013-04-30  144.00\n",
       "3 2013-05-01  139.00\n",
       "4 2013-05-02  116.38"
      ]
     },
     "execution_count": 96,
     "metadata": {},
     "output_type": "execute_result"
    }
   ],
   "source": [
    "priceOfBitcoin.rename(columns={'Series 1':'price', 'DateTime':'date'}, inplace=True)\n",
    "priceOfBitcoin['date'] = [x[:10] for x in priceOfBitcoin['date']]\n",
    "priceOfBitcoin['date'] = priceOfBitcoin['date'].apply(lambda x: datetime.datetime.strptime(x, '%Y-%m-%d'))\n",
    "priceOfBitcoin.head()"
   ]
  },
  {
   "cell_type": "code",
   "execution_count": 97,
   "metadata": {},
   "outputs": [
    {
     "data": {
      "text/html": [
       "<div>\n",
       "<style scoped>\n",
       "    .dataframe tbody tr th:only-of-type {\n",
       "        vertical-align: middle;\n",
       "    }\n",
       "\n",
       "    .dataframe tbody tr th {\n",
       "        vertical-align: top;\n",
       "    }\n",
       "\n",
       "    .dataframe thead th {\n",
       "        text-align: right;\n",
       "    }\n",
       "</style>\n",
       "<table border=\"1\" class=\"dataframe\">\n",
       "  <thead>\n",
       "    <tr style=\"text-align: right;\">\n",
       "      <th></th>\n",
       "      <th>text</th>\n",
       "      <th>date</th>\n",
       "      <th>year</th>\n",
       "    </tr>\n",
       "  </thead>\n",
       "  <tbody>\n",
       "    <tr>\n",
       "      <th>0</th>\n",
       "      <td>Bitcoin Price is in the Green but EOS is Today...</td>\n",
       "      <td>2019-04-10</td>\n",
       "      <td>2019</td>\n",
       "    </tr>\n",
       "    <tr>\n",
       "      <th>1</th>\n",
       "      <td>Chinese Investors Jump on Bitcoin’s Bull Trend...</td>\n",
       "      <td>2019-04-09</td>\n",
       "      <td>2019</td>\n",
       "    </tr>\n",
       "    <tr>\n",
       "      <th>2</th>\n",
       "      <td>PayPal Makes Blockchain Investment in Cambridg...</td>\n",
       "      <td>2019-04-02</td>\n",
       "      <td>2019</td>\n",
       "    </tr>\n",
       "    <tr>\n",
       "      <th>3</th>\n",
       "      <td>Square is Hiring: You Can Be Paid in Bitcoin i...</td>\n",
       "      <td>2019-03-21</td>\n",
       "      <td>2019</td>\n",
       "    </tr>\n",
       "    <tr>\n",
       "      <th>4</th>\n",
       "      <td>Apple’s Steve Wozniak Says Bitcoin has “Massiv...</td>\n",
       "      <td>2019-02-27</td>\n",
       "      <td>2019</td>\n",
       "    </tr>\n",
       "  </tbody>\n",
       "</table>\n",
       "</div>"
      ],
      "text/plain": [
       "                                                text       date  year\n",
       "0  Bitcoin Price is in the Green but EOS is Today... 2019-04-10  2019\n",
       "1  Chinese Investors Jump on Bitcoin’s Bull Trend... 2019-04-09  2019\n",
       "2  PayPal Makes Blockchain Investment in Cambridg... 2019-04-02  2019\n",
       "3  Square is Hiring: You Can Be Paid in Bitcoin i... 2019-03-21  2019\n",
       "4  Apple’s Steve Wozniak Says Bitcoin has “Massiv... 2019-02-27  2019"
      ]
     },
     "execution_count": 97,
     "metadata": {},
     "output_type": "execute_result"
    }
   ],
   "source": [
    "# Read from cryptocurrencynews_com_bitcoin_news.csv\n",
    "newsOfBitcoin['date'] = [x+'-'+y for x,y in zip(newsOfBitcoin['date'],newsOfBitcoin['year'].apply(str))]\n",
    "newsOfBitcoin['date'] = newsOfBitcoin['date'].apply(lambda x: datetime.datetime.strptime(x, '%d-%b-%Y'))\n",
    "newsOfBitcoin.rename(columns={'title':'text'}, inplace=True)\n",
    "newsOfBitcoin.head()"
   ]
  },
  {
   "cell_type": "markdown",
   "metadata": {},
   "source": [
    "### 2.2 Label the data"
   ]
  },
  {
   "cell_type": "code",
   "execution_count": 98,
   "metadata": {},
   "outputs": [
    {
     "data": {
      "text/html": [
       "<div>\n",
       "<style scoped>\n",
       "    .dataframe tbody tr th:only-of-type {\n",
       "        vertical-align: middle;\n",
       "    }\n",
       "\n",
       "    .dataframe tbody tr th {\n",
       "        vertical-align: top;\n",
       "    }\n",
       "\n",
       "    .dataframe thead th {\n",
       "        text-align: right;\n",
       "    }\n",
       "</style>\n",
       "<table border=\"1\" class=\"dataframe\">\n",
       "  <thead>\n",
       "    <tr style=\"text-align: right;\">\n",
       "      <th></th>\n",
       "      <th>date</th>\n",
       "      <th>price</th>\n",
       "      <th>price2</th>\n",
       "      <th>label</th>\n",
       "    </tr>\n",
       "  </thead>\n",
       "  <tbody>\n",
       "    <tr>\n",
       "      <th>0</th>\n",
       "      <td>2013-04-28</td>\n",
       "      <td>135.30</td>\n",
       "      <td>134.44</td>\n",
       "      <td>0</td>\n",
       "    </tr>\n",
       "    <tr>\n",
       "      <th>1</th>\n",
       "      <td>2013-04-29</td>\n",
       "      <td>134.44</td>\n",
       "      <td>144.00</td>\n",
       "      <td>1</td>\n",
       "    </tr>\n",
       "    <tr>\n",
       "      <th>2</th>\n",
       "      <td>2013-04-30</td>\n",
       "      <td>144.00</td>\n",
       "      <td>139.00</td>\n",
       "      <td>0</td>\n",
       "    </tr>\n",
       "    <tr>\n",
       "      <th>3</th>\n",
       "      <td>2013-05-01</td>\n",
       "      <td>139.00</td>\n",
       "      <td>116.38</td>\n",
       "      <td>0</td>\n",
       "    </tr>\n",
       "    <tr>\n",
       "      <th>4</th>\n",
       "      <td>2013-05-02</td>\n",
       "      <td>116.38</td>\n",
       "      <td>106.25</td>\n",
       "      <td>0</td>\n",
       "    </tr>\n",
       "  </tbody>\n",
       "</table>\n",
       "</div>"
      ],
      "text/plain": [
       "        date   price  price2  label\n",
       "0 2013-04-28  135.30  134.44      0\n",
       "1 2013-04-29  134.44  144.00      1\n",
       "2 2013-04-30  144.00  139.00      0\n",
       "3 2013-05-01  139.00  116.38      0\n",
       "4 2013-05-02  116.38  106.25      0"
      ]
     },
     "execution_count": 98,
     "metadata": {},
     "output_type": "execute_result"
    }
   ],
   "source": [
    "priceOfBitcoin['price2'] = [x for x in priceOfBitcoin['price'][1:]] + [0.0]\n",
    "# we add a new column 'Rising' to determine if the price is rising than previous day's price\n",
    "# 1: means rising, 0: means non rising\n",
    "# priceOfBitcoin['Rising']\n",
    "priceOfBitcoin['trend'] = priceOfBitcoin['price'] < priceOfBitcoin['price2']\n",
    "priceOfBitcoin['label'] = [int(x) for x in priceOfBitcoin['trend']]\n",
    "priceOfBitcoin.drop(columns=['trend'],inplace=True)\n",
    "priceOfBitcoin.head()"
   ]
  },
  {
   "cell_type": "markdown",
   "metadata": {},
   "source": [
    "### 2.3 Merge the dataset with price and news"
   ]
  },
  {
   "cell_type": "code",
   "execution_count": 103,
   "metadata": {},
   "outputs": [
    {
     "data": {
      "text/html": [
       "<div>\n",
       "<style scoped>\n",
       "    .dataframe tbody tr th:only-of-type {\n",
       "        vertical-align: middle;\n",
       "    }\n",
       "\n",
       "    .dataframe tbody tr th {\n",
       "        vertical-align: top;\n",
       "    }\n",
       "\n",
       "    .dataframe thead th {\n",
       "        text-align: right;\n",
       "    }\n",
       "</style>\n",
       "<table border=\"1\" class=\"dataframe\">\n",
       "  <thead>\n",
       "    <tr style=\"text-align: right;\">\n",
       "      <th></th>\n",
       "      <th>text</th>\n",
       "      <th>label</th>\n",
       "    </tr>\n",
       "  </thead>\n",
       "  <tbody>\n",
       "    <tr>\n",
       "      <th>0</th>\n",
       "      <td>A Potential Reason Behind Bitcoin’s Surge</td>\n",
       "      <td>1</td>\n",
       "    </tr>\n",
       "    <tr>\n",
       "      <th>1</th>\n",
       "      <td>Bitcoin Just A Bubble? Credit Suisse CEO’s Pre...</td>\n",
       "      <td>1</td>\n",
       "    </tr>\n",
       "    <tr>\n",
       "      <th>2</th>\n",
       "      <td>BREAKING: Bitcoin Soars 6% to $7,400 in just 2...</td>\n",
       "      <td>1</td>\n",
       "    </tr>\n",
       "    <tr>\n",
       "      <th>3</th>\n",
       "      <td>Can You Make a Fortune out of Bitcoin? Richard...</td>\n",
       "      <td>1</td>\n",
       "    </tr>\n",
       "    <tr>\n",
       "      <th>4</th>\n",
       "      <td>Hard Fork News: Bitcoin SegWit2x Suspended, Pr...</td>\n",
       "      <td>0</td>\n",
       "    </tr>\n",
       "  </tbody>\n",
       "</table>\n",
       "</div>"
      ],
      "text/plain": [
       "                                                text  label\n",
       "0         A Potential Reason Behind Bitcoin’s Surge       1\n",
       "1  Bitcoin Just A Bubble? Credit Suisse CEO’s Pre...      1\n",
       "2  BREAKING: Bitcoin Soars 6% to $7,400 in just 2...      1\n",
       "3  Can You Make a Fortune out of Bitcoin? Richard...      1\n",
       "4  Hard Fork News: Bitcoin SegWit2x Suspended, Pr...      0"
      ]
     },
     "execution_count": 103,
     "metadata": {},
     "output_type": "execute_result"
    }
   ],
   "source": [
    "df = priceOfBitcoin.merge(newsOfBitcoin, how = 'inner', left_on='date', right_on='date')\n",
    "df = df[['text','label']]\n",
    "df.head()"
   ]
  },
  {
   "cell_type": "markdown",
   "metadata": {},
   "source": [
    "#### EDA visulization\n",
    "1,explain what your data looks like (words are fine, but\n",
    "visualizations are often better). Include any interesting issues or preliminary\n",
    "conclusions you have about your data.\n",
    "\n",
    "2,that tests an interesting hypothesis, along with an\n",
    "explanation about why you thought this was an interesting hypothesis to\n",
    "investigate."
   ]
  },
  {
   "cell_type": "code",
   "execution_count": null,
   "metadata": {},
   "outputs": [],
   "source": [
    "###"
   ]
  },
  {
   "cell_type": "markdown",
   "metadata": {},
   "source": [
    "#### Classifier Training"
   ]
  },
  {
   "cell_type": "code",
   "execution_count": null,
   "metadata": {},
   "outputs": [],
   "source": [
    "###"
   ]
  },
  {
   "cell_type": "markdown",
   "metadata": {},
   "source": [
    "#### Classifier Evaluation"
   ]
  },
  {
   "cell_type": "code",
   "execution_count": null,
   "metadata": {},
   "outputs": [],
   "source": []
  },
  {
   "cell_type": "markdown",
   "metadata": {},
   "source": [
    "#### Reflection: a discussion of the following:\n",
    "o What is hardest part of the project that you’ve encountered so far?\n",
    "\n",
    "o What are your initial insights?\n",
    "\n",
    "o Are there any concrete results you can show at this point? If not, why not? o Going forward, what are the current biggest problems you’re facing?\n",
    "\n",
    "o Do you think you are on track with your project? If not, what parts do you need to dedicate more time to?\n",
    "\n",
    "o Given your initial exploration of the data, is it worth proceeding with your project, why? If not, how are you going to change your project and why do you think it’s better than your current results?\n"
   ]
  },
  {
   "cell_type": "code",
   "execution_count": null,
   "metadata": {},
   "outputs": [],
   "source": []
  },
  {
   "cell_type": "markdown",
   "metadata": {},
   "source": [
    "#### Next steps: \n",
    "What you plan to accomplish in the next month and how you plan to evaluate whether your project achieved the goals you set for it."
   ]
  },
  {
   "cell_type": "code",
   "execution_count": null,
   "metadata": {},
   "outputs": [],
   "source": []
  }
 ],
 "metadata": {
  "kernelspec": {
   "display_name": "Python 3",
   "language": "python",
   "name": "python3"
  },
  "language_info": {
   "codemirror_mode": {
    "name": "ipython",
    "version": 3
   },
   "file_extension": ".py",
   "mimetype": "text/x-python",
   "name": "python",
   "nbconvert_exporter": "python",
   "pygments_lexer": "ipython3",
   "version": "3.7.1"
  }
 },
 "nbformat": 4,
 "nbformat_minor": 2
}
