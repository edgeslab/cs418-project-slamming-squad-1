{
 "cells": [
  {
   "cell_type": "markdown",
   "metadata": {},
   "source": [
    "# Project Introduction\n",
    "#1 Our goal is to explore the trend variation on the bitcoin market price based on the market news and social news.\n",
    "#2 The first raw data we crawled from website is mainly from cryptocurrencynews.com. It has already done in the data_collect.ipynb progress in the same directory in the github. Now we would directly use the stored data in <b>cryptocurrencynews_com_bitcoin_news.csv</b> file\n",
    "\n",
    "#### Changes to the project\n",
    "1> Our goal remains, but the source of the data changed.\n",
    "\n",
    "Previously we would want to get data from mediacloud.com website. Later on we found that such data is not in accordance with our goal to use the contents to judge the market price variation. So we changed our way to re-crawled the data from the main cryptocurrency market news websites and social medias, like tweets. It tempted to be slow.\n",
    "\n",
    "2> to be continued."
   ]
  },
  {
   "cell_type": "code",
   "execution_count": 114,
   "metadata": {},
   "outputs": [],
   "source": [
    "# Pre import\n",
    "import pandas as pd\n",
    "import numpy as np\n",
    "import seaborn as sns\n",
    "%matplotlib inline\n",
    "import matplotlib.pyplot as plt\n",
    "import datetime\n",
    "import csv"
   ]
  },
  {
   "cell_type": "markdown",
   "metadata": {},
   "source": [
    "# Data Cleaning= Preprocessing the Raw data\n",
    "2.1 format transformation\n",
    "\n",
    "2.2 create labels\n",
    "\n",
    "2.3 merge news data with price data"
   ]
  },
  {
   "cell_type": "code",
   "execution_count": 95,
   "metadata": {},
   "outputs": [],
   "source": [
    "# Read 'Bitcoin' and the pricing of 'Bitcoin' market\n",
    "priceOfBitcoin = pd.read_csv('bitcoin-24hv0.csv')\n",
    "newsOfBitcoin = pd.read_csv('cryptocurrencynews_with_years.csv')"
   ]
  },
  {
   "cell_type": "markdown",
   "metadata": {},
   "source": [
    "### 2.1 Date tranformation"
   ]
  },
  {
   "cell_type": "code",
   "execution_count": 96,
   "metadata": {},
   "outputs": [
    {
     "data": {
      "text/html": [
       "<div>\n",
       "<style scoped>\n",
       "    .dataframe tbody tr th:only-of-type {\n",
       "        vertical-align: middle;\n",
       "    }\n",
       "\n",
       "    .dataframe tbody tr th {\n",
       "        vertical-align: top;\n",
       "    }\n",
       "\n",
       "    .dataframe thead th {\n",
       "        text-align: right;\n",
       "    }\n",
       "</style>\n",
       "<table border=\"1\" class=\"dataframe\">\n",
       "  <thead>\n",
       "    <tr style=\"text-align: right;\">\n",
       "      <th></th>\n",
       "      <th>date</th>\n",
       "      <th>price</th>\n",
       "    </tr>\n",
       "  </thead>\n",
       "  <tbody>\n",
       "    <tr>\n",
       "      <th>0</th>\n",
       "      <td>2013-04-28</td>\n",
       "      <td>135.30</td>\n",
       "    </tr>\n",
       "    <tr>\n",
       "      <th>1</th>\n",
       "      <td>2013-04-29</td>\n",
       "      <td>134.44</td>\n",
       "    </tr>\n",
       "    <tr>\n",
       "      <th>2</th>\n",
       "      <td>2013-04-30</td>\n",
       "      <td>144.00</td>\n",
       "    </tr>\n",
       "    <tr>\n",
       "      <th>3</th>\n",
       "      <td>2013-05-01</td>\n",
       "      <td>139.00</td>\n",
       "    </tr>\n",
       "    <tr>\n",
       "      <th>4</th>\n",
       "      <td>2013-05-02</td>\n",
       "      <td>116.38</td>\n",
       "    </tr>\n",
       "  </tbody>\n",
       "</table>\n",
       "</div>"
      ],
      "text/plain": [
       "        date   price\n",
       "0 2013-04-28  135.30\n",
       "1 2013-04-29  134.44\n",
       "2 2013-04-30  144.00\n",
       "3 2013-05-01  139.00\n",
       "4 2013-05-02  116.38"
      ]
     },
     "execution_count": 96,
     "metadata": {},
     "output_type": "execute_result"
    }
   ],
   "source": [
    "priceOfBitcoin.rename(columns={'Series 1':'price', 'DateTime':'date'}, inplace=True)\n",
    "priceOfBitcoin['date'] = [x[:10] for x in priceOfBitcoin['date']]\n",
    "priceOfBitcoin['date'] = priceOfBitcoin['date'].apply(lambda x: datetime.datetime.strptime(x, '%Y-%m-%d'))\n",
    "priceOfBitcoin.head()"
   ]
  },
  {
   "cell_type": "code",
   "execution_count": 97,
   "metadata": {},
   "outputs": [
    {
     "data": {
      "text/html": [
       "<div>\n",
       "<style scoped>\n",
       "    .dataframe tbody tr th:only-of-type {\n",
       "        vertical-align: middle;\n",
       "    }\n",
       "\n",
       "    .dataframe tbody tr th {\n",
       "        vertical-align: top;\n",
       "    }\n",
       "\n",
       "    .dataframe thead th {\n",
       "        text-align: right;\n",
       "    }\n",
       "</style>\n",
       "<table border=\"1\" class=\"dataframe\">\n",
       "  <thead>\n",
       "    <tr style=\"text-align: right;\">\n",
       "      <th></th>\n",
       "      <th>text</th>\n",
       "      <th>date</th>\n",
       "      <th>year</th>\n",
       "    </tr>\n",
       "  </thead>\n",
       "  <tbody>\n",
       "    <tr>\n",
       "      <th>0</th>\n",
       "      <td>Bitcoin Price is in the Green but EOS is Today...</td>\n",
       "      <td>2019-04-10</td>\n",
       "      <td>2019</td>\n",
       "    </tr>\n",
       "    <tr>\n",
       "      <th>1</th>\n",
       "      <td>Chinese Investors Jump on Bitcoin’s Bull Trend...</td>\n",
       "      <td>2019-04-09</td>\n",
       "      <td>2019</td>\n",
       "    </tr>\n",
       "    <tr>\n",
       "      <th>2</th>\n",
       "      <td>PayPal Makes Blockchain Investment in Cambridg...</td>\n",
       "      <td>2019-04-02</td>\n",
       "      <td>2019</td>\n",
       "    </tr>\n",
       "    <tr>\n",
       "      <th>3</th>\n",
       "      <td>Square is Hiring: You Can Be Paid in Bitcoin i...</td>\n",
       "      <td>2019-03-21</td>\n",
       "      <td>2019</td>\n",
       "    </tr>\n",
       "    <tr>\n",
       "      <th>4</th>\n",
       "      <td>Apple’s Steve Wozniak Says Bitcoin has “Massiv...</td>\n",
       "      <td>2019-02-27</td>\n",
       "      <td>2019</td>\n",
       "    </tr>\n",
       "  </tbody>\n",
       "</table>\n",
       "</div>"
      ],
      "text/plain": [
       "                                                text       date  year\n",
       "0  Bitcoin Price is in the Green but EOS is Today... 2019-04-10  2019\n",
       "1  Chinese Investors Jump on Bitcoin’s Bull Trend... 2019-04-09  2019\n",
       "2  PayPal Makes Blockchain Investment in Cambridg... 2019-04-02  2019\n",
       "3  Square is Hiring: You Can Be Paid in Bitcoin i... 2019-03-21  2019\n",
       "4  Apple’s Steve Wozniak Says Bitcoin has “Massiv... 2019-02-27  2019"
      ]
     },
     "execution_count": 97,
     "metadata": {},
     "output_type": "execute_result"
    }
   ],
   "source": [
    "# Read from cryptocurrencynews_com_bitcoin_news.csv\n",
    "newsOfBitcoin['date'] = [x+'-'+y for x,y in zip(newsOfBitcoin['date'],newsOfBitcoin['year'].apply(str))]\n",
    "newsOfBitcoin['date'] = newsOfBitcoin['date'].apply(lambda x: datetime.datetime.strptime(x, '%d-%b-%Y'))\n",
    "newsOfBitcoin.rename(columns={'title':'text'}, inplace=True)\n",
    "newsOfBitcoin.head()"
   ]
  },
  {
   "cell_type": "markdown",
   "metadata": {},
   "source": [
    "### 2.2 Label the data"
   ]
  },
  {
   "cell_type": "code",
   "execution_count": 98,
   "metadata": {},
   "outputs": [
    {
     "data": {
      "text/html": [
       "<div>\n",
       "<style scoped>\n",
       "    .dataframe tbody tr th:only-of-type {\n",
       "        vertical-align: middle;\n",
       "    }\n",
       "\n",
       "    .dataframe tbody tr th {\n",
       "        vertical-align: top;\n",
       "    }\n",
       "\n",
       "    .dataframe thead th {\n",
       "        text-align: right;\n",
       "    }\n",
       "</style>\n",
       "<table border=\"1\" class=\"dataframe\">\n",
       "  <thead>\n",
       "    <tr style=\"text-align: right;\">\n",
       "      <th></th>\n",
       "      <th>date</th>\n",
       "      <th>price</th>\n",
       "      <th>price2</th>\n",
       "      <th>label</th>\n",
       "    </tr>\n",
       "  </thead>\n",
       "  <tbody>\n",
       "    <tr>\n",
       "      <th>0</th>\n",
       "      <td>2013-04-28</td>\n",
       "      <td>135.30</td>\n",
       "      <td>134.44</td>\n",
       "      <td>0</td>\n",
       "    </tr>\n",
       "    <tr>\n",
       "      <th>1</th>\n",
       "      <td>2013-04-29</td>\n",
       "      <td>134.44</td>\n",
       "      <td>144.00</td>\n",
       "      <td>1</td>\n",
       "    </tr>\n",
       "    <tr>\n",
       "      <th>2</th>\n",
       "      <td>2013-04-30</td>\n",
       "      <td>144.00</td>\n",
       "      <td>139.00</td>\n",
       "      <td>0</td>\n",
       "    </tr>\n",
       "    <tr>\n",
       "      <th>3</th>\n",
       "      <td>2013-05-01</td>\n",
       "      <td>139.00</td>\n",
       "      <td>116.38</td>\n",
       "      <td>0</td>\n",
       "    </tr>\n",
       "    <tr>\n",
       "      <th>4</th>\n",
       "      <td>2013-05-02</td>\n",
       "      <td>116.38</td>\n",
       "      <td>106.25</td>\n",
       "      <td>0</td>\n",
       "    </tr>\n",
       "  </tbody>\n",
       "</table>\n",
       "</div>"
      ],
      "text/plain": [
       "        date   price  price2  label\n",
       "0 2013-04-28  135.30  134.44      0\n",
       "1 2013-04-29  134.44  144.00      1\n",
       "2 2013-04-30  144.00  139.00      0\n",
       "3 2013-05-01  139.00  116.38      0\n",
       "4 2013-05-02  116.38  106.25      0"
      ]
     },
     "execution_count": 98,
     "metadata": {},
     "output_type": "execute_result"
    }
   ],
   "source": [
    "priceOfBitcoin['price2'] = [x for x in priceOfBitcoin['price'][1:]] + [0.0]\n",
    "# we add a new column 'Rising' to determine if the price is rising than previous day's price\n",
    "# 1: means rising, 0: means non rising\n",
    "# priceOfBitcoin['Rising']\n",
    "priceOfBitcoin['trend'] = priceOfBitcoin['price'] < priceOfBitcoin['price2']\n",
    "priceOfBitcoin['label'] = [int(x) for x in priceOfBitcoin['trend']]\n",
    "priceOfBitcoin.drop(columns=['trend'],inplace=True)\n",
    "priceOfBitcoin.head()"
   ]
  },
  {
   "cell_type": "markdown",
   "metadata": {},
   "source": [
    "### 2.3 Merge the dataset with price and news"
   ]
  },
  {
   "cell_type": "code",
   "execution_count": 122,
   "metadata": {},
   "outputs": [
    {
     "data": {
      "text/html": [
       "<div>\n",
       "<style scoped>\n",
       "    .dataframe tbody tr th:only-of-type {\n",
       "        vertical-align: middle;\n",
       "    }\n",
       "\n",
       "    .dataframe tbody tr th {\n",
       "        vertical-align: top;\n",
       "    }\n",
       "\n",
       "    .dataframe thead th {\n",
       "        text-align: right;\n",
       "    }\n",
       "</style>\n",
       "<table border=\"1\" class=\"dataframe\">\n",
       "  <thead>\n",
       "    <tr style=\"text-align: right;\">\n",
       "      <th></th>\n",
       "      <th>label</th>\n",
       "      <th>text</th>\n",
       "    </tr>\n",
       "  </thead>\n",
       "  <tbody>\n",
       "    <tr>\n",
       "      <th>0</th>\n",
       "      <td>1</td>\n",
       "      <td>A Potential Reason Behind Bitcoin’s Surge</td>\n",
       "    </tr>\n",
       "    <tr>\n",
       "      <th>1</th>\n",
       "      <td>1</td>\n",
       "      <td>Bitcoin Just A Bubble? Credit Suisse CEO’s Pre...</td>\n",
       "    </tr>\n",
       "    <tr>\n",
       "      <th>2</th>\n",
       "      <td>1</td>\n",
       "      <td>BREAKING: Bitcoin Soars 6% to $7,400 in just 2...</td>\n",
       "    </tr>\n",
       "    <tr>\n",
       "      <th>3</th>\n",
       "      <td>1</td>\n",
       "      <td>Can You Make a Fortune out of Bitcoin? Richard...</td>\n",
       "    </tr>\n",
       "    <tr>\n",
       "      <th>4</th>\n",
       "      <td>0</td>\n",
       "      <td>Hard Fork News: Bitcoin SegWit2x Suspended, Pr...</td>\n",
       "    </tr>\n",
       "  </tbody>\n",
       "</table>\n",
       "</div>"
      ],
      "text/plain": [
       "   label                                               text\n",
       "0      1         A Potential Reason Behind Bitcoin’s Surge \n",
       "1      1  Bitcoin Just A Bubble? Credit Suisse CEO’s Pre...\n",
       "2      1  BREAKING: Bitcoin Soars 6% to $7,400 in just 2...\n",
       "3      1  Can You Make a Fortune out of Bitcoin? Richard...\n",
       "4      0  Hard Fork News: Bitcoin SegWit2x Suspended, Pr..."
      ]
     },
     "execution_count": 122,
     "metadata": {},
     "output_type": "execute_result"
    }
   ],
   "source": [
    "df = priceOfBitcoin.merge(newsOfBitcoin, how = 'inner', left_on='date', right_on='date')\n",
    "df = df[['label','text']]\n",
    "df.head()"
   ]
  },
  {
   "cell_type": "code",
   "execution_count": 119,
   "metadata": {},
   "outputs": [],
   "source": [
    "df.to_csv('tmp/bitcoin_news_price.csv', sep=',', index = False)"
   ]
  },
  {
   "cell_type": "markdown",
   "metadata": {},
   "source": [
    "### 3 EDA visulization\n",
    "\n",
    "Because currently our text data would contains so many features(words), it's difficult to draw a hyper-spherical graph here. So we mainly plot the picture based on the mention times(occurrence) of bitcoin in the media news and the market price data.\n",
    "\n",
    "1,explain what your data looks like (words are fine, but\n",
    "visualizations are often better). Include any interesting issues or preliminary\n",
    "conclusions you have about your data.\n",
    "\n",
    "2,that tests an interesting hypothesis, along with an\n",
    "explanation about why you thought this was an interesting hypothesis to\n",
    "investigate."
   ]
  },
  {
   "cell_type": "code",
   "execution_count": 138,
   "metadata": {},
   "outputs": [
    {
     "data": {
      "image/png": "[encoded data removed]",
      "text/plain": [
       "<Figure size 432x288 with 1 Axes>"
      ]
     },
     "metadata": {
      "needs_background": "light"
     },
     "output_type": "display_data"
    }
   ],
   "source": [
    "priceOfBitcoin2 = pd.read_csv('bitcoin-24hv0.csv')\n",
    "priceOfBitcoin2.rename(columns={'Series 1':'price', 'DateTime':'date'}, inplace=True)\n",
    "# print(priceOfBitcoin2.head())\n",
    "# count of bitcoin occurrances in medias\n",
    "daily_bitcoin_count = pd.read_csv('tmp/daily_bitcoin_count.csv')\n",
    "# print(daily_bitcoin_count.head())\n",
    "daily_bitcoin_pricing_count = pd.merge(priceOfBitcoin2, daily_bitcoin_count, \n",
    "                                       how='inner', left_on='date', right_on='date')\n",
    "# print(daily_bitcoin_pricing_count.head())\n",
    "daily_bitcoin_pricing_count['DateTime'] = [x[:10] for x in daily_bitcoin_pricing_count['date']]\n",
    "daily_bitcoin_pricing_count['day'] = [x[8:10] for x in daily_bitcoin_pricing_count['date']]\n",
    "daily_bitcoin_pricing_count['month'] = [x[5:7] for x in daily_bitcoin_pricing_count['date']]\n",
    "daily_bitcoin_pricing_count['year'] = [x[0:4] for x in daily_bitcoin_pricing_count['date']]\n",
    "daily_bitcoin_pricing_count['DateTime'] = pd.to_datetime(daily_bitcoin_pricing_count['date'])\n",
    "\n",
    "fig, ax = plt.subplots()\n",
    "plt.plot('DateTime', 'price', label='price', data=daily_bitcoin_pricing_count)\n",
    "plt.plot('DateTime', 'count', label='count', data=daily_bitcoin_pricing_count)\n",
    "plt.xlabel('DateTime')\n",
    "plt.ylabel('Number')\n",
    "plt.title('The trend of bitcoin pricing and \\n its occurrances frequency in medias')\n",
    "plt.legend()\n",
    "plt.show()\n",
    "fig.savefig('Bitcoin_Price_And_Occurencies.png', dpi=300)"
   ]
  },
  {
   "cell_type": "markdown",
   "metadata": {},
   "source": [
    "#### 3.1 Normalization"
   ]
  },
  {
   "cell_type": "code",
   "execution_count": 140,
   "metadata": {
    "scrolled": true
   },
   "outputs": [
    {
     "name": "stderr",
     "output_type": "stream",
     "text": [
      "/Users/dahang/anaconda3/envs/cs418env/lib/python3.7/site-packages/ipykernel_launcher.py:16: SettingWithCopyWarning: \n",
      "A value is trying to be set on a copy of a slice from a DataFrame.\n",
      "Try using .loc[row_indexer,col_indexer] = value instead\n",
      "\n",
      "See the caveats in the documentation: http://pandas.pydata.org/pandas-docs/stable/indexing.html#indexing-view-versus-copy\n",
      "  app.launch_new_instance()\n",
      "/Users/dahang/anaconda3/envs/cs418env/lib/python3.7/site-packages/ipykernel_launcher.py:18: SettingWithCopyWarning: \n",
      "A value is trying to be set on a copy of a slice from a DataFrame.\n",
      "Try using .loc[row_indexer,col_indexer] = value instead\n",
      "\n",
      "See the caveats in the documentation: http://pandas.pydata.org/pandas-docs/stable/indexing.html#indexing-view-versus-copy\n"
     ]
    },
    {
     "data": {
      "image/png": "[encoded data removed]",
      "text/plain": [
       "<Figure size 432x288 with 1 Axes>"
      ]
     },
     "metadata": {
      "needs_background": "light"
     },
     "output_type": "display_data"
    }
   ],
   "source": [
    "# Normalized Plotting\n",
    "from matplotlib import dates as mdates\n",
    "df = daily_bitcoin_pricing_count.copy()\n",
    "daily_bitcoin_pricing_count_norm = df[df['DateTime'] >= '2017-01-01']\n",
    "\n",
    "pricing_series = daily_bitcoin_pricing_count_norm['price'];\n",
    "min_price = min(pricing_series)\n",
    "max_price = max(pricing_series)\n",
    "\n",
    "count_series = daily_bitcoin_pricing_count_norm['count'];\n",
    "min_count = min(count_series)\n",
    "max_count = max(count_series)\n",
    "\n",
    "fig, ax = plt.subplots()\n",
    "daily_bitcoin_pricing_count_norm['price'] = [(x - min_price) / (max_price - min_price) \n",
    "                                               for x in pricing_series if max_price != min_price]\n",
    "daily_bitcoin_pricing_count_norm['count'] = [(x - min_count) / (max_count - min_count) \n",
    "                                               for x in count_series if max_count != min_count]\n",
    "ax.plot('DateTime', 'price', label='Pricing of bitcoin', data=daily_bitcoin_pricing_count_norm)\n",
    "ax.plot('DateTime', 'count', label='occurrences of bitcoin in medias', data=daily_bitcoin_pricing_count_norm)\n",
    "plt.xlabel('DateTime')\n",
    "plt.ylabel('Number')\n",
    "plt.title('The normalized trend of bitcoin pricing and \\n its occurrances frequency in medias')\n",
    "plt.legend()\n",
    "\n",
    "# format the ticks\n",
    "ax.xaxis.set_major_locator(mdates.MonthLocator(None, 1, 3))\n",
    "ax.xaxis.set_major_formatter(mdates.DateFormatter('%Y-%m'))\n",
    "ax.grid(True)\n",
    "fig.autofmt_xdate()\n",
    "plt.show()\n",
    "fig.savefig('Bitcoin_Price_And_Occurencies_Normalized.png', dpi=300)"
   ]
  },
  {
   "cell_type": "markdown",
   "metadata": {},
   "source": [
    "#### 3.2 Preliminary Conclusion/Estimation\n",
    "From above plot pictures, we found that when the price of bitcoin market vibrated heavily previously,  the mention times/occurrence of \"Bitcoin\" in main news website varies along with the price variation. So we are highly confident that there could be some correlation between the price market of Bitcoin with its occurrence in news websites."
   ]
  },
  {
   "cell_type": "markdown",
   "metadata": {},
   "source": [
    "### 4 ML Analysis\n",
    "on your dataset, along with a baseline comparison\n",
    "and an interpretation of the result that you obtain.\n",
    "\n",
    "Currently we have a dataset with 317 data points. Each data point contains the news title and the cryptocurrency price change for the day (0 or dump 1 for pump). We don’t have a big enough dataset yet. So currently we only have a training set (80%) and a test set (20%) without the validation set. \n",
    "\n",
    "In order to use this dataset with machine learning, we made a nice machine learning software named “Machine Learning with Text Data” (https://github.com/edgeslab/cs418-project-slamming-squad-1/tree/master/ML_TEXT ). It has a GUI built using PyQt5 and handles most major machine learning classifiers (SVM, Neural Network, kNN, etc.) Hyperparameters can be tuned inside the software. Its core function uses all techniques we learned in the class and homework about text data handling. It is tested with the tweets train data in our homework. \n",
    "\n",
    "We feed our dataset to the software. We tried several types of classifiers and tuned some hyperparameters. We don’t want to use the test set too many times. So, we didn’t try all hyperparameters to avoid overfitting. Currently the best result we get is using polynomial SVM, which gives us 10-Fold Cross validation score of 0.597, and the test score is 0.703. Considering the data set is relatively small, this is a promising result. In the future, we will extend the size of our dataset, and also use each news content instead of title. We expect even better test score. \n",
    "\n",
    "The software will have function build-in to predict the price changing trend by feeding one(or more) news data. By then we will have the complete train-evaluate-test-predict machine learning process. "
   ]
  },
  {
   "cell_type": "markdown",
   "metadata": {},
   "source": [
    "### 5 Reflection: a discussion of the following:\n",
    "o What is hardest part of the project that you’ve encountered so far?\n",
    "\n",
    "We have encountered some challenges before. The biggest challenge is about how to collect data from various data resources and to clean the data. We first tried to find some APIs and download news data in a good format. But all cryptocurrency news websites \n",
    "do not provide such kind of API. And then we try to find some news search engine APIs. Unfortunately, news search engine like Google news doesn't\n",
    "have such API. Other news API like https://newsapi.org/ can only crawl new data for one recent month. So we have to crawl raw data and do data cleaning \n",
    "about them which turns out to be very tedious and challenging.   \n",
    "\n",
    "o What are your initial insights?\n",
    "\n",
    "Our goal is to explore the change of bitcoin market price and news from various online sources. We plot the bitcoin prices and the counts of \n",
    "occurrences about bitcoin in social media. We found high correlation between them.\n",
    "\n",
    "\n",
    "o Are there any concrete results you can show at this point? If not, why not? o Going forward, what are the current biggest problems you’re facing?\n",
    "\n",
    "\n",
    "We have gathered files of bitcoin price and crawled news data from one website and did data cleaning to the raw news data.\n",
    "Several training models have been built and integrated into one plateform with a UI that makes it easier use. \n",
    "\n",
    "The current biggest problem we have is to crawl larger size of data set as well as doing data cleaning about them and building models to train them.\n",
    "\n",
    "\n",
    "o Do you think you are on track with your project? If not, what parts do you need to dedicate more time to?\n",
    "\n",
    "Yes. We are now on the track. We now have data and basic models. We need to crawl more data and modify our model. We should finish the project as we scheduled\n",
    "before.\n",
    "\n",
    "\n",
    "\n",
    "o Given your initial exploration of the data, is it worth proceeding with your project, why? If not, how are you going to change your project and why do you think it’s better than your current results?\n",
    "\n",
    "Yes. Explore the correlation between bitcoin price and related news is very interesting. We now find the high correlation about them.\n",
    "We hope to build one model that can predict the change of bitcoin price well in the future.\n"
   ]
  },
  {
   "cell_type": "markdown",
   "metadata": {},
   "source": [
    "#### Next steps: \n",
    "We are still far more to go. Firstly for the data part, we have the data of Bitcoin and the related news collected until the last month.  This will be put into our model for training and testing. After our model is completely finished and optimized, we will collect the latest  Bitcoin news to make the prediction on its possible price change.\n",
    "\n",
    "For the data processing part, since we compare the next day’s Bitcoin price with the previous day’s to label it as a signal for Increasing or decreasing, of course this is too simple and the Bitcoin market may not respond so quickly to the news or it may respond too quickly to catch its correlations. We shall come up with some other ideas to make it as a good Label.\n",
    "\n",
    "One more thing worth to comment here is that some of the Bitcoins news are written after the market massive move and they try to dig into the reasons for the Bitcoin pump or dump. We must take care of such kind of news too. \n",
    "\n",
    "And so far we are still building the model to train and test our collected data set. We tried our model only on the Head of news because it is simple to deal with and it is easy to process, so that we can get a quick feedback and to further revise  our model. We shall continue to try it on other different supervised machine learning models, say  Decision Trees, and Random forest, and AdaBoost classifiers, until we choose the best classifier. \n",
    "For the next step we will apply it on the large amount of  news’ main content, and from which we shall complete our model training and further test. And eventually to make some meaningful predictions."
   ]
  },
  {
   "cell_type": "code",
   "execution_count": null,
   "metadata": {},
   "outputs": [],
   "source": []
  }
 ],
 "metadata": {
  "kernelspec": {
   "display_name": "Python 3",
   "language": "python",
   "name": "python3"
  },
  "language_info": {
   "codemirror_mode": {
    "name": "ipython",
    "version": 3
   },
   "file_extension": ".py",
   "mimetype": "text/x-python",
   "name": "python",
   "nbconvert_exporter": "python",
   "pygments_lexer": "ipython3",
   "version": "3.7.1"
  }
 },
 "nbformat": 4,
 "nbformat_minor": 2
}
