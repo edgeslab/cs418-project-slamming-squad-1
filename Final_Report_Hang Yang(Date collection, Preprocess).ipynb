{
 "cells": [
  {
   "cell_type": "markdown",
   "metadata": {},
   "source": [
    "# Final Report: Market News Analysis on Bitcoin Pricing Trend\n",
    "## Project Introduction\n",
    "\n",
    ">In 2019, the Bitcoin market seems to release a signal of revival from 2018 Bitcoin Crash. We are glad to hear about that and wants to help people to know about this trend. Our goal is to explore the trend variation on the bitcoin market price based on the market news and social news.\n",
    "\n",
    ">4, We have write a interactive software to do the ML task and evaluate different classifiers by accuracy scoring.\n",
    "\n",
    ">5, Results: Explanation/Inference from our data analysis.\n",
    "\n",
    "PS: You could also find our github repository by clicking this [Link](https://github.com/edgeslab/cs418-project-slamming-squad-1/blob/master/Final_Report.ipynb)"
   ]
  },
  {
   "cell_type": "code",
   "execution_count": 1,
   "metadata": {},
   "outputs": [],
   "source": [
    "!pip install -r ./requirements.txt > pip-log.txt"
   ]
  },
  {
   "cell_type": "code",
   "execution_count": 2,
   "metadata": {},
   "outputs": [],
   "source": [
    "%matplotlib inline\n",
    "%load_ext autoreload\n",
    "%autoreload 2\n",
    "from data_process import *\n",
    "from eda_sentiment import *"
   ]
  },
  {
   "cell_type": "markdown",
   "metadata": {},
   "source": [
    "## 1 Data collection[shiyong]\n",
    "Before our processing, we use the web crawler scripts to get our raw data and save them as csv files under same directory. Our rawdata consists of two parts: Bitcoin pricing and Bitcoin Media news. We download Bitcoin pricing from market and use python webcrawler techniques to get our media news data.\n",
    ">We collect news data from all popular Bitcoin media websites, like cryptocurrencynews.com, cryptonews.com, ccn.com etc. You could find the web crawl scripts in the root [news_contents_request.py](https://github.com/edgeslab/cs418-project-slamming-squad-1/blob/master/news_contents_request.py)\n",
    "1. In order to run this script, you need to download [selenium.webdriver](https://www.seleniumhq.org/download/) corresponding to your Browser(like ChromeWebdriver). Please save it in '/usr/local/bin/chromedriver'\n",
    "2. install selenium package in your jupyter kernel environment\n",
    "3. You can skip below data collection step, because it also depends on the network brandth when you try to crawl the websites. You could use the downloaded data to continue the sentiment analysis. "
   ]
  },
  {
   "cell_type": "code",
   "execution_count": 15,
   "metadata": {},
   "outputs": [],
   "source": [
    "# Can skip below commands if you have no internet networking or low speed. This step can cost >=10 mins\n",
    "\n",
    "# %run -i 'news_contents_request.py' -n 'cryptocurrencynews' -u 'https://cryptocurrencynews.com/daily-news/bitcoin-news/'\n",
    "\n",
    "# %run -i 'news_contents_request.py' -n 'cryptonews' -u 'https://cryptonews.com/news/bitcoin-news/'"
   ]
  },
  {
   "cell_type": "code",
   "execution_count": 16,
   "metadata": {},
   "outputs": [],
   "source": [
    "# Read 'Bitcoin' and the pricing of 'Bitcoin' market\n",
    "priceOfBitcoin = pd.read_csv('bitcoin_price.csv')\n",
    "curr_newsOfBitcoin = pd.read_csv('cryptocurrencynews.csv')\n",
    "crypto_newsOfBitcoin = pd.read_csv('cryptonews.csv')"
   ]
  },
  {
   "cell_type": "markdown",
   "metadata": {},
   "source": [
    "## 2 EDA and Data Cleaning\n",
    "### 2.1 EDA on the raw dataset, we looking into the raw datasets we collected, here are their descriptives:\n",
    "1. Structure: the raw datasets are structured and stored in CSV files. For pricing dataset, the different price attributes(\"Open\", \"High\", \"Low\", \"Close\" etc) are all quantitative, and also a important attribute \"Date\" which will be used to join the news dataset. For news dataset, there are only two attributes: news text and date. News texts are strings.\n",
    "2. Granularity: For pricing dataset, each record represents the statistics of Bitcoin in one transaction day. For news dataset, each record represents one news per transaction day. All records are at same level and fine grained.\n",
    "3. Scope: Our main goal is to analyze the trend of Bitcoin price, the price dataset contains the \"Open\" and \"Close\" price which could allow us to infer the pricing trend(Increasing/Decreasing) the difference \"Close\" - \"Open\". \n",
    "4. Temporality: Because of the reference restrictions from websites, the price data we collected ranged from Apr-2013 to Apr-2019. The news data ranged from Dec-2017 to Apr-2019.\n",
    "5. Faithfulness: Both the pricing data and media data are from famous and trustful, hignRanked websites by Google Search Engine."
   ]
  },
  {
   "cell_type": "markdown",
   "metadata": {},
   "source": [
    "### 2.2 Date Cleaning\n",
    "1. Missing data handling in \"Volume\" attribute, we use mean to replace them\n",
    "2. Transformation, from object->numeric, object->str, object->datetime etc\n",
    "3. Create labels, based on the diff of \"close\" and \"open\" price \n",
    "4. merge news data with price data based on the \"date\" key\n",
    "\n",
    "Preprocess scripts could be found here. [data_process.py](https://github.com/edgeslab/cs418-project-slamming-squad-1/blob/master/data_process.py)"
   ]
  },
  {
   "cell_type": "code",
   "execution_count": 17,
   "metadata": {},
   "outputs": [
    {
     "data": {
      "text/html": [
       "<div>\n",
       "<style scoped>\n",
       "    .dataframe tbody tr th:only-of-type {\n",
       "        vertical-align: middle;\n",
       "    }\n",
       "\n",
       "    .dataframe tbody tr th {\n",
       "        vertical-align: top;\n",
       "    }\n",
       "\n",
       "    .dataframe thead th {\n",
       "        text-align: right;\n",
       "    }\n",
       "</style>\n",
       "<table border=\"1\" class=\"dataframe\">\n",
       "  <thead>\n",
       "    <tr style=\"text-align: right;\">\n",
       "      <th></th>\n",
       "      <th>date</th>\n",
       "      <th>open</th>\n",
       "      <th>High</th>\n",
       "      <th>Low</th>\n",
       "      <th>close</th>\n",
       "      <th>Volume</th>\n",
       "      <th>Market Cap</th>\n",
       "      <th>text</th>\n",
       "      <th>diff</th>\n",
       "      <th>label</th>\n",
       "    </tr>\n",
       "  </thead>\n",
       "  <tbody>\n",
       "    <tr>\n",
       "      <th>0</th>\n",
       "      <td>2019-04-26</td>\n",
       "      <td>5210.30</td>\n",
       "      <td>5383.63</td>\n",
       "      <td>5177.37</td>\n",
       "      <td>5279.35</td>\n",
       "      <td>1.681211e+10</td>\n",
       "      <td>9.327229e+10</td>\n",
       "      <td>The past two sessions saw a lot of volatility...</td>\n",
       "      <td>69.05</td>\n",
       "      <td>1</td>\n",
       "    </tr>\n",
       "    <tr>\n",
       "      <th>1</th>\n",
       "      <td>2019-04-25</td>\n",
       "      <td>5466.52</td>\n",
       "      <td>5542.24</td>\n",
       "      <td>5181.34</td>\n",
       "      <td>5210.52</td>\n",
       "      <td>1.533028e+10</td>\n",
       "      <td>9.204649e+10</td>\n",
       "      <td>Recently, bitcoin price started a downside co...</td>\n",
       "      <td>-256.00</td>\n",
       "      <td>0</td>\n",
       "    </tr>\n",
       "    <tr>\n",
       "      <th>2</th>\n",
       "      <td>2019-04-24</td>\n",
       "      <td>5571.51</td>\n",
       "      <td>5642.04</td>\n",
       "      <td>5418.26</td>\n",
       "      <td>5464.87</td>\n",
       "      <td>1.704803e+10</td>\n",
       "      <td>9.653004e+10</td>\n",
       "      <td>Entrepreneur and Bitcoin bull John McAfee say...</td>\n",
       "      <td>-106.64</td>\n",
       "      <td>0</td>\n",
       "    </tr>\n",
       "    <tr>\n",
       "      <th>3</th>\n",
       "      <td>2019-04-24</td>\n",
       "      <td>5571.51</td>\n",
       "      <td>5642.04</td>\n",
       "      <td>5418.26</td>\n",
       "      <td>5464.87</td>\n",
       "      <td>1.704803e+10</td>\n",
       "      <td>9.653004e+10</td>\n",
       "      <td>Specialist blockchain and artificial intellig...</td>\n",
       "      <td>-106.64</td>\n",
       "      <td>0</td>\n",
       "    </tr>\n",
       "    <tr>\n",
       "      <th>4</th>\n",
       "      <td>2019-04-24</td>\n",
       "      <td>5571.51</td>\n",
       "      <td>5642.04</td>\n",
       "      <td>5418.26</td>\n",
       "      <td>5464.87</td>\n",
       "      <td>1.704803e+10</td>\n",
       "      <td>9.653004e+10</td>\n",
       "      <td>Two-thirds of 10,000 surveyed Europeans belie...</td>\n",
       "      <td>-106.64</td>\n",
       "      <td>0</td>\n",
       "    </tr>\n",
       "  </tbody>\n",
       "</table>\n",
       "</div>"
      ],
      "text/plain": [
       "        date     open     High      Low    close        Volume    Market Cap  \\\n",
       "0 2019-04-26  5210.30  5383.63  5177.37  5279.35  1.681211e+10  9.327229e+10   \n",
       "1 2019-04-25  5466.52  5542.24  5181.34  5210.52  1.533028e+10  9.204649e+10   \n",
       "2 2019-04-24  5571.51  5642.04  5418.26  5464.87  1.704803e+10  9.653004e+10   \n",
       "3 2019-04-24  5571.51  5642.04  5418.26  5464.87  1.704803e+10  9.653004e+10   \n",
       "4 2019-04-24  5571.51  5642.04  5418.26  5464.87  1.704803e+10  9.653004e+10   \n",
       "\n",
       "                                                text    diff  label  \n",
       "0   The past two sessions saw a lot of volatility...   69.05      1  \n",
       "1   Recently, bitcoin price started a downside co... -256.00      0  \n",
       "2   Entrepreneur and Bitcoin bull John McAfee say... -106.64      0  \n",
       "3   Specialist blockchain and artificial intellig... -106.64      0  \n",
       "4   Two-thirds of 10,000 surveyed Europeans belie... -106.64      0  "
      ]
     },
     "execution_count": 17,
     "metadata": {},
     "output_type": "execute_result"
    }
   ],
   "source": [
    "# Date tranformation and adding label in the pricing dataset\n",
    "priceOfBitcoin = pre_process_price(priceOfBitcoin)\n",
    "# Read from cryptocurrencynews.csv\n",
    "curr_newsOfBitcoin = pre_process_news(curr_newsOfBitcoin)\n",
    "# Read from cryptonews.csv\n",
    "crypto_newsOfBitcoin = pre_process_news(crypto_newsOfBitcoin)\n",
    "# combine news_data together\n",
    "newsOfBitcoin = combine_news(curr_newsOfBitcoin, crypto_newsOfBitcoin)\n",
    "# merge the dataset with price and news\n",
    "bitcoin_contents_price = priceOfBitcoin.merge(newsOfBitcoin, how = 'inner', left_on='date', right_on='date')\n",
    "bitcoin_contents_price = add_label(bitcoin_contents_price)\n",
    "bitcoin_contents_price.head()"
   ]
  },
  {
   "cell_type": "code",
   "execution_count": 18,
   "metadata": {},
   "outputs": [],
   "source": [
    "# we save our dataframe to local CSV files for later Machine Learning Toning use\n",
    "saved_df = bitcoin_contents_price[['label', 'text']]\n",
    "saved_df.to_csv('bitcoin_contents_price.csv', sep=',', index = False)"
   ]
  },
  {
   "cell_type": "markdown",
   "metadata": {},
   "source": [
    "### 3 EDA visulization\n",
    "\n",
    "We would take use of [Afinn Lexion](https://www.kdnuggets.com/2018/08/emotion-sentiment-analysis-practitioners-guide-nlp-5.html) and other visualization methods to help us analyze the sentiment in the news contents.\n",
    "\n",
    "1. [Affin Script](https://github.com/edgeslab/cs418-project-slamming-squad-1/blob/master/eda_afinn.py)\n",
    "Based on affin sentiment score, we could find the sentiment attitude containing in the news article contents. The distribution of these sentiment under each label(1: rising price, 0: decreasing price) could help to specify some correlationship between the news article and the price trend.\n",
    "2. TBD\n"
   ]
  },
  {
   "cell_type": "code",
   "execution_count": 19,
   "metadata": {},
   "outputs": [
    {
     "name": "stdout",
     "output_type": "stream",
     "text": [
      "      sentiment_score                                                   \n",
      "                count      mean        std    min  25%   50%   75%   max\n",
      "label                                                                   \n",
      "0               374.0  8.909091  17.574576 -123.0 -1.0   9.0  19.0  86.0\n",
      "1               427.0  9.946136  15.130400  -68.0  1.0  10.0  19.0  83.0\n"
     ]
    },
    {
     "data": {
      "image/png": "[encoded data removed]",
      "text/plain": [
       "<Figure size 1008x288 with 2 Axes>"
      ]
     },
     "metadata": {
      "needs_background": "light"
     },
     "output_type": "display_data"
    },
    {
     "data": {
      "image/png": "[encoded data removed]",
      "text/plain": [
       "<Figure size 467.5x360 with 1 Axes>"
      ]
     },
     "metadata": {
      "needs_background": "light"
     },
     "output_type": "display_data"
    }
   ],
   "source": [
    "afinn_df = afinn_analysis(bitcoin_contents_price)"
   ]
  },
  {
   "cell_type": "code",
   "execution_count": 20,
   "metadata": {
    "scrolled": true
   },
   "outputs": [
    {
     "name": "stdout",
     "output_type": "stream",
     "text": [
      "Most Negative Tech News Article:  The former CEO of the collapsed cryptocurrency exchange Mt. Gox, Mark Karpeles, will likely avoid having to serve prison time in Japan after receiving a suspended sentence. Karpeles was on Friday found guilty by the Tokyo District Court for tampering with the exchange’s financial records, as well as mixing his personal finances with those of the exchange, according to multiple media reports. However, the court dismissed the embezzlement charges that had also been raised against Karpeles, saying he “acted without ill intent.” Karpeles originally faced a prison term of up to 10 years in Japan for the embezzlement charges. “The charge of electronic record tampering is true and deserves punishment, but there’s no criminal evidence of embezzlement,” the court said, Bloomberg reported. It further blamed the 33-year-old Frenchman for “massive harm to the trust of his users.”  “There is no excuse for the defendant, who is an engineer with expert knowledge, to abuse his status and authority to perform clever criminal acts,” the court said, before giving him a 2 1/2 year “suspended sentence,” which does not need to be served unless another crime is committed within four years. Karpeles, who has maintained his innocence throughout the trial, was also ordered to pay for part of the cost of the trial. Finished reading Karpeles verdict. In summary, the court found that the way he ran Mt. Gox was a total mess and that he tampered w/ records to hide the fact it was missing a lot of Bitcoin, but he did not do it for personal gain or have ill intent. Attaching relevant parts. pic.twitter.com/3n7oEwSsK0 “I am happy to be judged not guilty for embezzlement and breach of trust. I will discuss with my lawyers and decide how to proceed on the remaining charge,” Karpeles told CNN in a brief comment. Mark Karpeles bought Mt. Gox, which was originally a marketplace for illustrated cards, in 2011 and turned it into the biggest cryptocurrency exchange in the world. In 2014, the exchange collapsed in a spectacular fashion after 850,000 bitcoins were stolen, leading to a loss of nearly USD 500 million for users of the exchange. To this day, the majority of the missing bitcoins have yet to be recovered. More than four years after the infamous Mt. Gox incident victims have been filing rehabilitation claims and are now waiting to be reimbursed. However, it seems that they might need to wait even longer, as two different entities are slowing down the process: cryptocurrency company CoinLab, headed by CEO Peter Vessenes, and former child actor and crypto entrepreneur Brock Pierce, as previously reported. _____\n",
      "Mark Karpelès on the Collapse of Mt. Gox:\n",
      "\n",
      "Most Positive Tech News Article:  Now that we’ve seen how popular Bitcoin (BTC) has become over the past year, there is probably one question that almost every opportunistic investor is now asking: Is bitcoin worth the investment now?  The simple answer to that — of course — depends on one’s background, objectives, and wealth.  But an interesting proposition that’s been thrown around lately revolves around bitcoin becoming a topical investment that could even rival gold. Could bitcoin function in the same way as gold? Could it also be a store of value?  Coincidentally, both assets have roughly similar per-unit values at the moment. So now is a good time to ask these questions. To provide the answers, we must look at some of bitcoin’s key characteristics that make it attractive to investors. It is well documented that the bitcoin virtual currency has a limited supply — 21 million to be exact. Recently, reports came out informing the market that 80% of the world’s BTC has been mined, with approximately 4.2 million still remaining out there. In comparison, the supply of gold is said to increase by 1% to 2% annually.  Just by using the law of supply and demand, we can extrapolate that bitcoin’s value hinges largely on its demand. A perfectly inelastic supply — when all coins have been mined — signifies that any movement in bitcoin’s demand would directly affect its price without any part of the supply curve offsetting the demand-induced price movement. This is one plausible explanation (using market dynamics in economics) for bitcoin’s volatile; it is super sensitive to demand shifts. Because its supply is set at a certain amount, there is a good chance bitcoin will become increasingly valuable as demand continues to go up like it did for the past year. Remember, the global population is also growing, so the number of bitcoin consumers can only rise. Because it is a virtual currency, bitcoin is extremely convenient to buy and easy to carry around. This has both its pros and cons. On the bright side, every transaction involving bitcoin happens quickly, particularly those involving large sums of money, and its users can benefit from the anonymity of ownership, such that bitcoin can be used in all sorts of purchases. This makes bitcoin especially valuable in the black market. On the downside, because it’s virtual, bitcoin is more vulnerable to disruptions to its system (i.e. hacks), therefore potentially losing all its value. Moreover, bitcoin’s benefits can only be realized by a select group of people in the society — those who are tech-savvy. For the older generations, even the concept behind bitcoin eludes them, segregating them from the world of cryptocurrency. For the most part, bitcoin is considered a decentralized entity not subject to any government regulations. Again, this is both good and bad. While decentralization allows all members of the bitcoin community to engage in the mining and verification process, it does create problems that can only be mitigated by governing authorities. For example, without regulation, transactions in the black market, as well as money laundering using bitcoin, would be left uncontrolled. Remember the story in 2015 about the arrest of the owner of the Silk Road website and how bitcoin was involved in that ordeal? This is why some jurisdictions are pushing for cryptocurrency laws to tackle these issues. Indeed, bitcoin offers our society another choice of currency that’s both secure and easy to use with the potential to appreciate, but does that make it a good store of value compared to gold? For this, we must consider how their values would look years down the road.  Source: coindesk.com Looking at their historical prices, there’s a telling story: Bitcoin has a much higher variation over the past three years than gold, but overall it is trending upwards, while gold stayed relatively flat. This says a lot about the risks involved with these assets. Obviously, Bitcoin has a higher risk, though its value could keep going up especially as it is even rarer than gold. Also, the problem some have with bitcoin isn’t about its volatility, but how the volatility would hinder its path towards becoming real money. On the other hand, gold can be considered a relatively safer investment, especially as it has been around for thousands of years — nothing is going to hurt its status as the #1 precious metal. As an investor, you want to know your investment horizon when making a judgment. As seen over the past few months, bitcoin does fluctuate. Hence, those investing in the short term would have a higher chance of profiting from bitcoin. “For more than 5,000 years gold and silver have been tried-and-true money. They’ve lasted basically the duration of organized civilization,” said Dave Kranzler of Investment Research Dynamics. In the long run, both assets would likely go up but for different reasons. For bitcoin, its limited supply and the rising popularity of digital currency right now would certainly boost its value. As for gold, investors would always view it as a good hedge against inflation and the stock market, which was traditionally its most common use. Former PayPal president David Marcus once gave his own view on bitcoin: “I really like bitcoin. I own bitcoins. It’s a store of value, a distributed ledger. It’s a great place to put assets, especially in places like Argentina with 40% inflation, where $1 today is worth 60 cents in a year, and a government’s currency does not hold value. It’s also a good investment vehicle if you have an appetite for risk. But it won’t be a currency until volatility slows down.” The security breaches in the virtual world could be seen as the biggest fear factor for those buying bitcoin. No one can change the fact that bitcoin is a man-made entity, and anything created by humans has its own implicit uncertainties. Some also argue that bitcoin is “easy to get in but hard to get out”. In addition, interference by regulatory authorities has always caused fears in the cryptocurrency space. A government crackdown could hit bitcoin’s value depending on the nature and magnitude of change imposed. If one’s looking for a safe and reliable investment, gold would easily be one of the ideal candidates. The only major problem investors have is that it is not as transferable as fiat money, and certainly much more difficult when compared to bitcoin. Imagine you need to make a deal involving tens of kilograms of gold, someone would need to transfer that. Plus, there’s a possibility that it could get stolen on its way. So the speed in which gold can be used as a medium of exchange is not optimal in many cases. Whatever what your investment goals are, both bitcoin and gold are assets that have value in the future. In fact, as mentioned, gold can be a hedge against many things, and cryptocurrency may be one of those. This week, the market saw an influx of money pouring into gold purchases, with 30,000 kilograms sold on January 17, due to the cryptocurrency market (including bitcoin) being down for consecutive days.  Source: Bloomberg Therefore, one way to regard the “bitcoin vs. gold” argument is to see them as complements that diversify one’s portfolio.  On one hand, investing solely in bitcoin presents a “high-risk, high-reward” scenario, while putting all eggs in the gold basket is much safer but has a lower growth ceiling. This is tantamount to choosing between equity in a rising sector and bonds. In the end, the investment decision and allocation really depend on how aggressive an investor wants to be. Featured Image: Twitter \n"
     ]
    }
   ],
   "source": [
    "pos_idx = afinn_df[(afinn_df['label']== 1) & (afinn_df['sentiment_score'] == 83)].index[0]\n",
    "neg_idx = afinn_df[(afinn_df['label']== 1) & (afinn_df['sentiment_score'] == -68)].index[0]\n",
    "\n",
    "print('Most Negative Rising News Article:', bitcoin_contents_price.iloc[neg_idx][['text']][0])\n",
    "print()\n",
    "print('Most Positive Rising News Article:', bitcoin_contents_price.iloc[pos_idx][['text']][0])"
   ]
  },
  {
   "cell_type": "code",
   "execution_count": 21,
   "metadata": {},
   "outputs": [
    {
     "name": "stdout",
     "output_type": "stream",
     "text": [
      "Most Negative Decreasing News Article:  Companies in English-speaking countries all over the world have reportedly received bomb threats from people claiming to have planted explosive devices in recipients’ buildings – which they will only refrain from detonating should they receive USD 20,000 in Bitcoin. Police forces across the United States say they have received multiple reports of emailed threats, with similar announcements made in New Zealand. However, numerous police spokespeople have already called the threats a “hoax.” And it seems any would-be scammers have so far failed utterly in their efforts – with zero transactions recorded in the scammers’ wallet the time of writing (UTC 05:50 AM). __ Dammit, I guess I sent it to the wrong address. However, the apparent scam has succeeded in causing widespread disruption, though, particularly in the United States and Canada. Media organizations including Pennsylvanian local newspaper the Tribune-Democrat, software companies and government buildings in both countries were all evacuated as police were called out to investigate claims. In some emails, the apparent scammers claimed they would only “call off” their “man” if the recipients made a Bitcoin transfer. Internet users have claimed that the threats can be traced to a server in Moscow, while some versions of the email threat published online appear to be written in somewhat poorly worded or broken English, although there appears to be little concrete evidence to suggest there are any clear leads in the case yet. The text of the scam email: Subject: Do not waste your time\n",
      "Hello. My man hid an explosive device (Hexogen) in the building where your business is conducted. My mercenary assembled the explosive device according to my guide. It has small dimensions and it is covered up very carefully, it is impossible to damage the building structure by my bomb, but in the case of its detonation there will be many victims.\n",
      "My recruited person keeps the area under the control. If any unusual behavioror cop is noticed he will power the bomb.\n",
      "I can call off my man if you make a transfer. 20.000 dollars is the cost for your life and business. Pay it to me in BTC and I warrant that I will withdraw my man and the device won't detonate. But do not try to cheat- my guarantee will become valid only after 3 confirmations in blockchain network.\n",
      "My payment details (Bitcoin address): (REMOVED)\n",
      "You must solve problems with the transaction by the end of the workday, if you are late with the money the device will detonate.\n",
      "Nothing personal this is just a business, if you don’t transfer me the bitcoins and a bomb explodes, next time other companies will send me more money, because this is not a one-time action.\n",
      "For my safety, I will no longer log into this email. I check my address every forty min and if I receive the payment I will order my person to get away.\n",
      "If the explosive device detonates and the authorities see this letter: We are not terrorists and dont assume any liability for explosions in other places.\n",
      "_________ Subject: Do not waste your time Hello. My man hid an explosive device (Hexogen) in the building where your business is conducted. My mercenary assembled the explosive device according to my guide. It has small dimensions and it is covered up very carefully, it is impossible to damage the building structure by my bomb, but in the case of its detonation there will be many victims.\n",
      "My recruited person keeps the area under the control. If any unusual behavioror cop is noticed he will power the bomb.\n",
      "I can call off my man if you make a transfer. 20.000 dollars is the cost for your life and business. Pay it to me in BTC and I warrant that I will withdraw my man and the device won't detonate. But do not try to cheat- my guarantee will become valid only after 3 confirmations in blockchain network.\n",
      "My payment details (Bitcoin address): (REMOVED)\n",
      "You must solve problems with the transaction by the end of the workday, if you are late with the money the device will detonate.\n",
      "Nothing personal this is just a business, if you don’t transfer me the bitcoins and a bomb explodes, next time other companies will send me more money, because this is not a one-time action.\n",
      "For my safety, I will no longer log into this email. I check my address every forty min and if I receive the payment I will order my person to get away.\n",
      "If the explosive device detonates and the authorities see this letter: We are not terrorists and dont assume any liability for explosions in other places. Per Wired, the FBI is “working with United States law enforcement” on the case, with Oklahoma police stating, on Twitter that “no credible threat [has been] found at this point.” Ottawa police labelled the bomb threats an “unfounded email threat to local business and individuals,” and New Zealand cyber security agency CERT NZ called them an “opportunistic scam.” Meanwhile, the U.S. National Cybersecurity and Communications Integration Center recommends the following actions, in case you receive a bomb threat email: ____ Reactions, comments and jokes: At this time, it appears that these threats are meant to cause disruption and/or obtain money. We’ll respond to each call regarding these emails to conduct a search but we wanted to share this information so the credibility of these threats can be assessed as likely NOT CREDIBLE. ___ Bitcoin bomb threat results in evacuation of Radburn School in Fair Lawn on Thursday afternoon, 12/13.  Students evacuated to nearby Grange Hall and dismissed from there. #Bitcoinbombthreat #RadburnSchool #FairLawn pic.twitter.com/T7UJjmwuK5 ___ #Penticton RCMP say bomb threats at Penticton, Vernon & Kamloops car dealerships involved a threatening email claiming bomb would detonate if they didn’t send bitcoin cryptocurrency, they believe it’s a “swatting” incident and threat unsubstantiated. @GlobalOkanagan pic.twitter.com/XTvvLqqHRP ____ PSA before the “news” tells you otherwise:Ransom being demanded in a certain currency does not make that certain currency bad. Bomb threats made over email does not make email bad. Ransom being demanded in bitcoin does not make bitcoin bad. The more you know~* pic.twitter.com/3QOEdMacI6 ___ pic.twitter.com/ffRX5vbt7o ___ The Bitcoin-spam-scammers have moved on from fake blackmail threats to fake bomb threats. So far no-one's paid anything to the address, and I suspect it'll stay that way. pic.twitter.com/N5MOdmu8Jm ___ Also, by the time you have $20,000 in bitcoin, you have $18,000 in bitcoin. ___ Well, that's a new one. I just got a random bomb threat via email, demanding bitcoin payment. Since I'm at the coffee shop now, I suppose I'm safe. #ransomemail pic.twitter.com/MTj6X56mjm ____ Here's my Bitcoin...bit of coin...whatever. In case I get a bomb threat, it's on the kitchen counter, in an empty tea tin. pic.twitter.com/0bgE4jDxV5 ____ This bitcoin bomb scam email is actually an ingenious litmus test to detect and confirm who is your ‘Office Idiot’ or ‘Office Drama Queen’. pic.twitter.com/bigbx5UNIP ____ people who fall for bitcoin bomb threats :: people who know who to send bitcoins @vortmax79 pic.twitter.com/OMmUKBwj0g ___ Here's a new scam to land in my Spam box...a threat to blow up my office building. No, I won't \"tansfer\" (sic) \"20'000 usd\" in Bitcoin. Since I work from home I doubt your \"mercenary has carried the bomb...into the building where your business is conducted.\" 🤣 pic.twitter.com/BOTFQD2r4Q\n",
      "\n",
      "Most Positive Decreasing News Article:  Today is January 3rd, the tenth anniversary of the first block in the Bitcoin blockchain mined, also known as the Genesis block. Of course, the cryptoverse has taken to the internet to celebrate this day, from simply wishing Bitcoin a happy birthday, over going through all the events that brought Bitcoin to where it is today, to ideas on how to celebrate this birthday in a meaningful way.  If you’ve been reading up on the interesting tidbits about Bitcoin’s history, you may know that the genesis block of Bitcoin contains the text “The Times 03/Jan/2009 Chancellor on brink of second bailout for banks,” as this was the headline of The Times newspaper on that day. Now, ten years later, that very same newspaper is featuring Bitcoin on the bottom of its front page thanks to cryptocurrency exchange BitMEX, where the writing says, “Thanks, Satoshi. We owe you one. Happy 10th birthday, Bitcoin.”  ____ Today's Times newspaper (3rd January 2019) celebrates Bitcoin's 10th BirthdayIncluded on the front page is the hash of the Bitcoin block 554,509. Thanks to @JihanWu  and @btccom_official for including the message \"ThanksSatoshi\" in the Coinbase inputhttps://t.co/HFskR9J6Jv pic.twitter.com/QtSRvI6wNo Included is the hash of the Bitcoin block 554,509, mined today, and co-founder of mining rig manufacturer Bitmain, Jihan Wu, and Bitcoin wallet and major mining pool BTC.com teamed up to have that block include the phrase “Thanks Satoshi” in honor of Bitcoin’s 10th birthday.  Also, it looks like the today's issue of The Times might become extremely popular: Picked myself up 10 copies. Potential to moon 10/10. If you're not lucky to buy one, you can read the article, published in the newspaper, online. And here you can find sellers of the original Bitcoin Genesis Block newspaper, but be ready to pay at least USD 50,000 per copy.   The phrase that Satoshi Nakamoto included on that day was not a purely spontaneous decision: a decade later, it proves that the genesis block was created on the same day the network was released, which means that Satoshi couldn’t have built up a secretly premined chain, undermining the network. However, YouTuber and crypto influencer Ivan on Tech adds another meaning to that phrase: “That's the reason Bitcoin exists. Bitcoin is the cure.” And Reddit user u/jam-hay reminds us that Bitcoin is stronger than ever ten years after its inception: “For years we have had to put up with condescending mainstream media, finance and political pundits sneering at the very thought that a group of volunteer developers could somehow create a free, open-source, decentralized and secure way for everyday people to store and send value to each other almost instantly.. all over the planet and beyond. 10 years on and we have over 2,000+ cryptocurrencies, 16,000+ markets and a combined market cap of $130bn [...] This new wave of Fintech spawned by Satoshi will do to the banking sector, what online shopping has done to brick and mortar shops.” There is also a countdown to the exact time when Bitcoin’s birthday falls: 18:15 GMT. Joining the celebration is Didi Taihuttu, best known as the man who sold almost everything he owned, poured it into bitcoin and moved his family into a trailer park. In his congratulations, he is joined by the rest of his family from their trailer. 🎉 Happy Birthday Bitcoin 🎉 Don't lose faith in #Bitcoin because of the price. Bitcoin is there to decentralize the monetary system, to bank the unbanked, to get back control over our money and provide us of financial freedom and privacy! #cryptocurrency #thebitcoinfamily pic.twitter.com/nIpg2p5ptA And Bitcoin economist Saifedean Ammous reminds us why we love the digital currency so much. “Bitcoin has now been operating for ten years without confirming a single fraudulent transaction, and without deviating from its original monetary issuance schedule. Deal with it!” he wrote on Twitter.  But how do you celebrate if you’d like to be more proactive? Francis Pouliot, CEO and co-founder of Canadian Bitcoin company Bull Bitcoin, tweets his ideas:  Celebrate Bitcoin 10 years with real skin-in-the-game:- do P2P Bitcoin trades as both seller/buyer (friends, localbitcoins @bisq_network)- help local Bitcoin meetup, be Bitcoin 101 speaker - use a Bitcoin ATM- buy a miner - ask for payment in $BTC- pay back a friend in $BTC https://t.co/u2Lx78IErw Twitter user @verretor puts the birthday into perspective: “For Bitcoin's 10th birthday, the U.S. government is shutdown,” he tweeted. User @hodlonaut gives us a quick rundown of the past decade: 10 yearsOver half a million blocksHundreds of obituariesThousands of ragequitsTrillion+ USD transactedAn army of hodlers of last resort createdHappy birthday Bitcoin, you red-pilling, hope-giving, savage son of a bitch! I love you ❤️ And @CryptoScamHub does what the cryptoverse usually does best: makes a meme out of the situation.   pic.twitter.com/ZrUdgj01YT And for a truly memorable 10th birthday, many faces from the community came together to sing a song. A total of 21 people sang, and while not all of them could make a career out of it, the song is touching - and reminds us of the true values in crypto. ___ Below are a few more celebration moments: Happy 10th Birthday #Bitcoin. Thanks for allowing me to live freely. pic.twitter.com/faVEipUsDC ____ Happy 10th Birthday, Bitcoin! Looking forward to another 10 years of growth! pic.twitter.com/uoJeOLj0t5 ______ ┏┓       in┃┃╱╲ this┃╱╱╲╲  house╱╱╭╮╲╲  we ▔▏┗┛▕▔   celebrate╱▔▔▔▔▔▔▔▔▔▔╲   Bitcoin on 10th anniversary╱╱┏┳┓╭╮┏┳┓ ╲╲ ▔▏┗┻┛┃┃┗┻┛▕▔ ______ Cheers to this!  And to think this financial innovation came not from any of the thousands of banks across the world, with their millions of employees, and their trillions in capital! We now benefit from a Cambrian explosion in financial technology that is unstoppable. https://t.co/CUWd16cthl _____ Hey @LukeDashjr, I'm joining the mindless crowd in the celebration of this meaningless 10th anniversary for interoperability reasons, but I pledge to help you making the 16th anniversary more memorable!(Disclaimer: cardinal numbers in this tweet expressed in lame decimal base.) ____ Happy birthday, Bitcoin! Let the second decade begin.\n"
     ]
    }
   ],
   "source": [
    "pos_idx = afinn_df[(afinn_df['label']== 0) & (afinn_df['sentiment_score'] == 86)].index[0]\n",
    "neg_idx = afinn_df[(afinn_df['label']== 0) & (afinn_df['sentiment_score'] == -123)].index[0]\n",
    "\n",
    "print('Most Negative Decreasing News Article:', bitcoin_contents_price.iloc[neg_idx][['text']][0])\n",
    "print()\n",
    "print('Most Positive Decreasing News Article:', bitcoin_contents_price.iloc[pos_idx][['text']][0])"
   ]
  },
  {
   "cell_type": "markdown",
   "metadata": {},
   "source": [
    "#### 3.1 Initial Hypothesis/Estimation\n",
    ">From above sentiment analysis, we could find that when the Bitcoin price is going up, more positive sentiment attitude to Bitcoin appears in the media contents. We believe that there is high probability or correlation between those media news and Bitcoin pricing variations\n",
    "\n",
    ">Caveats: We know that there are a lot of coincidence and other factors that might cause the Bitcoin price to change. This is only the view from media news we try to specify to Bitcoin investors. If you are one of the investors, there are a lot of other factors that you might to consider when you make a investment decision."
   ]
  },
  {
   "cell_type": "markdown",
   "metadata": {},
   "source": [
    "### 4 ML Analysis\n",
    "\n",
    "Currently we have a dataset with 317 data points. Each data point contains the news title and the cryptocurrency price change for the day (0 or dump 1 for pump). We don’t have a big enough dataset yet. So currently we only have a training set (80%) and a test set (20%) without the validation set. \n",
    "\n",
    "In order to use this dataset with machine learning, we made a nice machine learning software named “Machine Learning with Text Data” (https://github.com/edgeslab/cs418-project-slamming-squad-1/tree/master/ML_TEXT ). It has a GUI built using PyQt5 and handles most major machine learning classifiers (SVM, Neural Network, kNN, etc.) Hyperparameters can be tuned inside the software. Its core function uses all techniques we learned in the class and homework about text data handling. It is tested with the tweets train data in our homework. \n",
    "\n",
    "We feed our dataset to the software. We tried several types of classifiers and tuned some hyperparameters. We don’t want to use the test set too many times. So, we didn’t try all hyperparameters to avoid overfitting. Currently the best result we get is using polynomial SVM, which gives us 10-Fold Cross validation score of 0.597, and the test score is 0.703. Considering the data set is relatively small, this is a promising result. In the future, we will extend the size of our dataset, and also use each news content instead of title. We expect even better test score. \n",
    "\n",
    "The software will have function build-in to predict the price changing trend by feeding one(or more) news data. By then we will have the complete train-evaluate-test-predict machine learning process. "
   ]
  },
  {
   "cell_type": "markdown",
   "metadata": {},
   "source": [
    "### 5 Reflection: a discussion of the following:\n",
    "o What is hardest part of the project that you’ve encountered so far?\n",
    "\n",
    "We have encountered some challenges before. The biggest challenge is about how to collect data from various data resources and to clean the data. We first tried to find some APIs and download news data in a good format. But all cryptocurrency news websites \n",
    "do not provide such kind of API. And then we try to find some news search engine APIs. Unfortunately, news search engine like Google news doesn't\n",
    "have such API. Other news API like https://newsapi.org/ can only crawl new data for one recent month. So we have to crawl raw data and do data cleaning \n",
    "about them which turns out to be very tedious and challenging.   \n",
    "\n",
    "o What are your initial insights?\n",
    "\n",
    "Our goal is to explore the change of bitcoin market price and news from various online sources. We plot the bitcoin prices and the counts of \n",
    "occurrences about bitcoin in social media. We found high correlation between them.\n",
    "\n",
    "\n",
    "o Are there any concrete results you can show at this point? If not, why not? o Going forward, what are the current biggest problems you’re facing?\n",
    "\n",
    "\n",
    "We have gathered files of bitcoin price and crawled news data from one website and did data cleaning to the raw news data.\n",
    "Several training models have been built and integrated into one plateform with a UI that makes it easier use. \n",
    "\n",
    "The current biggest problem we have is to crawl larger size of data set as well as doing data cleaning about them and building models to train them.\n",
    "\n",
    "\n",
    "o Do you think you are on track with your project? If not, what parts do you need to dedicate more time to?\n",
    "\n",
    "Yes. We are now on the track. We now have data and basic models. We need to crawl more data and modify our model. We should finish the project as we scheduled\n",
    "before.\n",
    "\n",
    "\n",
    "\n",
    "o Given your initial exploration of the data, is it worth proceeding with your project, why? If not, how are you going to change your project and why do you think it’s better than your current results?\n",
    "\n",
    "Yes. Explore the correlation between bitcoin price and related news is very interesting. We now find the high correlation about them.\n",
    "We hope to build one model that can predict the change of bitcoin price well in the future.\n"
   ]
  },
  {
   "cell_type": "markdown",
   "metadata": {},
   "source": [
    "#### Next steps: \n",
    "We are still far more to go. Firstly for the data part, we have the data of Bitcoin and the related news collected until the last month.  This will be put into our model for training and testing. After our model is completely finished and optimized, we will collect the latest  Bitcoin news to make the prediction on its possible price change.\n",
    "\n",
    "For the data processing part, since we compare the next day’s Bitcoin price with the previous day’s to label it as a signal for Increasing or decreasing, of course this is too simple and the Bitcoin market may not respond so quickly to the news or it may respond too quickly to catch its correlations. We shall come up with some other ideas to make it as a good Label.\n",
    "\n",
    "One more thing worth to comment here is that some of the Bitcoins news are written after the market massive move and they try to dig into the reasons for the Bitcoin pump or dump. We must take care of such kind of news too. \n",
    "\n",
    "And so far we are still building the model to train and test our collected data set. We tried our model only on the Head of news because it is simple to deal with and it is easy to process, so that we can get a quick feedback and to further revise  our model. We shall continue to try it on other different supervised machine learning models, say  Decision Trees, and Random forest, and AdaBoost classifiers, until we choose the best classifier. \n",
    "For the next step we will apply it on the large amount of  news’ main content, and from which we shall complete our model training and further test. And eventually to make some meaningful predictions."
   ]
  },
  {
   "cell_type": "code",
   "execution_count": null,
   "metadata": {},
   "outputs": [],
   "source": []
  }
 ],
 "metadata": {
  "kernelspec": {
   "display_name": "Python 3",
   "language": "python",
   "name": "python3"
  },
  "language_info": {
   "codemirror_mode": {
    "name": "ipython",
    "version": 3
   },
   "file_extension": ".py",
   "mimetype": "text/x-python",
   "name": "python",
   "nbconvert_exporter": "python",
   "pygments_lexer": "ipython3",
   "version": "3.7.1"
  }
 },
 "nbformat": 4,
 "nbformat_minor": 2
}
